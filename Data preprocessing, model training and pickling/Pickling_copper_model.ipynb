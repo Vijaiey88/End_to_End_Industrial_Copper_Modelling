{
 "cells": [
  {
   "cell_type": "markdown",
   "id": "b843b16f",
   "metadata": {},
   "source": [
    "## Import necessary libraries"
   ]
  },
  {
   "cell_type": "code",
   "execution_count": 2,
   "id": "426692b4",
   "metadata": {
    "scrolled": true
   },
   "outputs": [
    {
     "name": "stdout",
     "output_type": "stream",
     "text": [
      "3.11.2 (tags/v3.11.2:878ead1, Feb  7 2023, 16:38:35) [MSC v.1934 64 bit (AMD64)]\n"
     ]
    }
   ],
   "source": [
    "import sys\n",
    "print(sys.version)"
   ]
  },
  {
   "cell_type": "code",
   "execution_count": 3,
   "id": "e3aa0b9d",
   "metadata": {},
   "outputs": [],
   "source": [
    "import pandas as pd\n",
    "import numpy as np\n",
    "import seaborn as sns\n",
    "import matplotlib.pyplot as plt\n",
    "from sklearn.model_selection import train_test_split\n",
    "from sklearn.metrics import mean_absolute_error,mean_squared_error\n",
    "from sklearn.metrics import r2_score\n",
    "from sklearn.ensemble import BaggingRegressor\n",
    "import warnings\n",
    "warnings.filterwarnings('ignore')"
   ]
  },
  {
   "cell_type": "code",
   "execution_count": 4,
   "id": "0de89f07",
   "metadata": {},
   "outputs": [],
   "source": [
    "df = pd.read_csv(r\"H:\\Guvi\\Project\\Industrial Copper Model\\Dataset\\Copper_Set.csv\")"
   ]
  },
  {
   "cell_type": "code",
   "execution_count": 5,
   "id": "febd97d8",
   "metadata": {},
   "outputs": [],
   "source": [
    "df.drop(columns=['id', 'delivery date', 'material_ref'], axis=1, inplace=True)"
   ]
  },
  {
   "cell_type": "code",
   "execution_count": 6,
   "id": "f687cfc8",
   "metadata": {},
   "outputs": [],
   "source": [
    "df['item_date'] = df['item_date'].replace(19950000.0, 19950101.0)"
   ]
  },
  {
   "cell_type": "code",
   "execution_count": 7,
   "id": "acd3be86",
   "metadata": {},
   "outputs": [],
   "source": [
    "df['item_date'] = pd.to_datetime(df['item_date'], format='%Y%m%d', errors='coerce')"
   ]
  },
  {
   "cell_type": "code",
   "execution_count": 8,
   "id": "992a71da",
   "metadata": {},
   "outputs": [],
   "source": [
    "## since I got error while running format correction, I did this changes \n",
    "df['quantity tons'] = df['quantity tons'].replace('e', np.nan)"
   ]
  },
  {
   "cell_type": "code",
   "execution_count": 9,
   "id": "5b368df1",
   "metadata": {},
   "outputs": [],
   "source": [
    "df['quantity tons'] = pd.to_numeric(df['quantity tons'])"
   ]
  },
  {
   "cell_type": "code",
   "execution_count": 10,
   "id": "04dc7a17",
   "metadata": {},
   "outputs": [],
   "source": [
    "df['item_date'] = df['item_date'].fillna(df['item_date'].mode()[0])\n",
    "df['quantity tons'] = df['quantity tons'].fillna(df['quantity tons'].median())\n",
    "df['customer'] = df['customer'].fillna(df['customer'].mode()[0])\n",
    "df['country'] = df['country'].fillna(df['country'].median())\n",
    "df['status'] = df['status'].fillna(df['status'].mode()[0])\n",
    "df['application'] = df['application'].fillna(df['application'].median())\n",
    "df['thickness'] = df['thickness'].fillna(df['thickness'].median())\n",
    "df['selling_price'] = df['selling_price'].fillna(df['selling_price'].median())"
   ]
  },
  {
   "cell_type": "code",
   "execution_count": 11,
   "id": "1485c977",
   "metadata": {},
   "outputs": [],
   "source": [
    "## Since some values contains garbage value('0') at the start so removing with left strip technique\n",
    "# df['material_ref'] = df['material_ref'].str.lstrip('0')    "
   ]
  },
  {
   "cell_type": "code",
   "execution_count": 12,
   "id": "9af85171",
   "metadata": {},
   "outputs": [],
   "source": [
    "# ## Used random sampling imputation for filling nan values since data is missing at random and also considering there are many categorical values\n",
    "# def impute_nan_material(df, feature):\n",
    "#     random_sample = df[feature].dropna().sample(df[feature].isnull().sum(),random_state=0)\n",
    "#     random_sample.index = df[df[feature].isnull()].index\n",
    "#     df.loc[df[feature].isnull(), feature] = random_sample\n",
    "\n",
    "# impute_nan_material(df, 'material_ref')"
   ]
  },
  {
   "cell_type": "code",
   "execution_count": 13,
   "id": "61f3526f",
   "metadata": {
    "scrolled": false
   },
   "outputs": [
    {
     "name": "stdout",
     "output_type": "stream",
     "text": [
      "q1 10.9703737835989\n",
      "q3 67.1603846825272\n",
      "median 30.3646354529424\n",
      "iqr 56.19001089892829\n",
      "lower_bound -157.599658913186\n",
      "upper_bound 235.7304173793121\n"
     ]
    }
   ],
   "source": [
    "q1 = df['quantity tons'].quantile(0.25)\n",
    "print('q1', q1)\n",
    "q3 = df['quantity tons'].quantile(0.75)\n",
    "print('q3', q3)\n",
    "median = df['quantity tons'].median()\n",
    "print('median', median)\n",
    "iqr = q3 - q1\n",
    "print('iqr', iqr)\n",
    "lower_bound = q1 - 3 * iqr\n",
    "print('lower_bound', lower_bound)\n",
    "upper_bound = q3 + 3 * iqr\n",
    "print('upper_bound', upper_bound)"
   ]
  },
  {
   "cell_type": "code",
   "execution_count": 14,
   "id": "4c61391b",
   "metadata": {},
   "outputs": [],
   "source": [
    "##since weight cannot be negative but the values seems to be within range so i tried removing minus sign from the values to see how it works.\n",
    "df['quantity tons'] = np.where(df['quantity tons']<-1000, q1, df['quantity tons'])\n",
    "df['quantity tons'] = np.where(df['quantity tons']<0,df['quantity tons'].abs() , df['quantity tons'])"
   ]
  },
  {
   "cell_type": "code",
   "execution_count": 15,
   "id": "eab11712",
   "metadata": {},
   "outputs": [],
   "source": [
    "df['quantity tons'] = np.where(df['quantity tons']>1.000000e+05,upper_bound , df['quantity tons'])"
   ]
  },
  {
   "cell_type": "code",
   "execution_count": 16,
   "id": "172f03fc",
   "metadata": {},
   "outputs": [],
   "source": [
    "df['quantity tons']  = np.log1p(df['quantity tons'])"
   ]
  },
  {
   "cell_type": "code",
   "execution_count": 17,
   "id": "e0e2dafe",
   "metadata": {},
   "outputs": [
    {
     "name": "stdout",
     "output_type": "stream",
     "text": [
      "q1 0.7\n",
      "q3 3.0\n",
      "median 1.5\n",
      "iqr 2.3\n",
      "lower_bound -6.199999999999999\n",
      "upper_bound 9.899999999999999\n"
     ]
    }
   ],
   "source": [
    "q1 = df['thickness'].quantile(0.25)\n",
    "print('q1', q1)\n",
    "q3 = df['thickness'].quantile(0.75)\n",
    "print('q3', q3)\n",
    "median = df['thickness'].median()\n",
    "print('median', median)\n",
    "iqr = q3 - q1\n",
    "print('iqr', iqr)\n",
    "lower_bound = q1 - 3 * iqr\n",
    "print('lower_bound', lower_bound)\n",
    "upper_bound = q3 + 3 * iqr\n",
    "print('upper_bound', upper_bound)"
   ]
  },
  {
   "cell_type": "code",
   "execution_count": 18,
   "id": "0c099172",
   "metadata": {},
   "outputs": [],
   "source": [
    "df['thickness'] = np.where(df['thickness']>250, upper_bound, df['thickness'])"
   ]
  },
  {
   "cell_type": "code",
   "execution_count": 19,
   "id": "42aa35c8",
   "metadata": {},
   "outputs": [],
   "source": [
    "df['thickness'] = np.log(df['thickness'])"
   ]
  },
  {
   "cell_type": "code",
   "execution_count": 20,
   "id": "d3d56fc5",
   "metadata": {},
   "outputs": [
    {
     "name": "stdout",
     "output_type": "stream",
     "text": [
      "q1 669.0\n",
      "q3 953.0\n",
      "median 812.0\n",
      "iqr 284.0\n",
      "lower_bound -183.0\n",
      "upper_bound 1805.0\n"
     ]
    }
   ],
   "source": [
    "q1 = df['selling_price'].quantile(0.25)\n",
    "print('q1', q1)\n",
    "q3 = df['selling_price'].quantile(0.75)\n",
    "print('q3', q3)\n",
    "median = df['selling_price'].median()\n",
    "print('median', median)\n",
    "iqr = q3 - q1\n",
    "print('iqr', iqr)\n",
    "lower_bound = q1 - 3 * iqr\n",
    "print('lower_bound', lower_bound)\n",
    "upper_bound = q3 + 3 * iqr\n",
    "print('upper_bound', upper_bound)"
   ]
  },
  {
   "cell_type": "code",
   "execution_count": 21,
   "id": "ab8255f4",
   "metadata": {},
   "outputs": [],
   "source": [
    "df['selling_price'] = np.where(df['selling_price']<=0, q1, df['selling_price'])"
   ]
  },
  {
   "cell_type": "code",
   "execution_count": 22,
   "id": "4afefc52",
   "metadata": {},
   "outputs": [],
   "source": [
    "df['selling_price'] = np.where(df['selling_price']>1e4, upper_bound, df['selling_price'])"
   ]
  },
  {
   "cell_type": "code",
   "execution_count": 23,
   "id": "41a5b9bf",
   "metadata": {},
   "outputs": [],
   "source": [
    "df['selling_price'] = (df['selling_price'])**(1/2)"
   ]
  },
  {
   "cell_type": "code",
   "execution_count": 24,
   "id": "e0b84b0c",
   "metadata": {},
   "outputs": [],
   "source": [
    "## frequency or count encoding is done for status, item type, material_ref\n",
    "for feature in ['status', 'item type']:\n",
    "    feature_map = df[feature].value_counts().to_dict()\n",
    "    df[feature] = df[feature].map(feature_map)"
   ]
  },
  {
   "cell_type": "code",
   "execution_count": 25,
   "id": "3bfed835",
   "metadata": {},
   "outputs": [],
   "source": [
    "df['item_date'] = df['item_date'].astype(str)"
   ]
  },
  {
   "cell_type": "code",
   "execution_count": 26,
   "id": "3c9baeb5",
   "metadata": {},
   "outputs": [],
   "source": [
    "df['item_delivery_year'] = df['item_date'].apply(lambda x : x.split('-')[0])\n",
    "df['item_delivery_month'] = df['item_date'].apply(lambda x : x.split('-')[1])\n",
    "df['item_delivery_date'] = df['item_date'].apply(lambda x : x.split('-')[2])"
   ]
  },
  {
   "cell_type": "code",
   "execution_count": 27,
   "id": "d45d0502",
   "metadata": {},
   "outputs": [],
   "source": [
    "df.drop(columns='item_date', axis=1,inplace=True)"
   ]
  },
  {
   "cell_type": "code",
   "execution_count": 28,
   "id": "f83cc9c5",
   "metadata": {},
   "outputs": [],
   "source": [
    "df['item_delivery_year'] = df['item_delivery_year'].astype(int)\n",
    "df['item_delivery_month'] = df['item_delivery_month'].astype(int)\n",
    "df['item_delivery_date'] = df['item_delivery_date'].astype(int)"
   ]
  },
  {
   "cell_type": "code",
   "execution_count": 29,
   "id": "664ae80b",
   "metadata": {},
   "outputs": [
    {
     "data": {
      "text/plain": [
       "count    181673.000000\n",
       "mean       2020.390085\n",
       "std           0.491424\n",
       "min        1995.000000\n",
       "25%        2020.000000\n",
       "50%        2020.000000\n",
       "75%        2021.000000\n",
       "max        2021.000000\n",
       "Name: item_delivery_year, dtype: float64"
      ]
     },
     "execution_count": 29,
     "metadata": {},
     "output_type": "execute_result"
    }
   ],
   "source": [
    "df['item_delivery_year'].describe()"
   ]
  },
  {
   "cell_type": "code",
   "execution_count": 30,
   "id": "a601b4f0",
   "metadata": {},
   "outputs": [
    {
     "name": "stdout",
     "output_type": "stream",
     "text": [
      "<class 'pandas.core.frame.DataFrame'>\n",
      "RangeIndex: 181673 entries, 0 to 181672\n",
      "Data columns (total 13 columns):\n",
      " #   Column               Non-Null Count   Dtype  \n",
      "---  ------               --------------   -----  \n",
      " 0   quantity tons        181673 non-null  float64\n",
      " 1   customer             181673 non-null  float64\n",
      " 2   country              181673 non-null  float64\n",
      " 3   status               181673 non-null  int64  \n",
      " 4   item type            181673 non-null  int64  \n",
      " 5   application          181673 non-null  float64\n",
      " 6   thickness            181673 non-null  float64\n",
      " 7   width                181673 non-null  float64\n",
      " 8   product_ref          181673 non-null  int64  \n",
      " 9   selling_price        181673 non-null  float64\n",
      " 10  item_delivery_year   181673 non-null  int32  \n",
      " 11  item_delivery_month  181673 non-null  int32  \n",
      " 12  item_delivery_date   181673 non-null  int32  \n",
      "dtypes: float64(7), int32(3), int64(3)\n",
      "memory usage: 15.9 MB\n"
     ]
    }
   ],
   "source": [
    "df.info()"
   ]
  },
  {
   "cell_type": "code",
   "execution_count": 31,
   "id": "4f50edda",
   "metadata": {},
   "outputs": [],
   "source": [
    "## Assigning features into input(X) and ouput(y)\n",
    "X = df.drop(labels=['selling_price'], axis=1)\n",
    "y = df['selling_price']"
   ]
  },
  {
   "cell_type": "code",
   "execution_count": 32,
   "id": "007ace4a",
   "metadata": {},
   "outputs": [],
   "source": [
    "## Splitting dataset for testing and training\n",
    "X_train, X_test, y_train, y_test = train_test_split(X, y, test_size=0.25, random_state=42)"
   ]
  },
  {
   "cell_type": "code",
   "execution_count": 33,
   "id": "639df9e4",
   "metadata": {},
   "outputs": [],
   "source": [
    "model = BaggingRegressor(n_estimators=30, random_state=42)"
   ]
  },
  {
   "cell_type": "code",
   "execution_count": 34,
   "id": "286efafb",
   "metadata": {},
   "outputs": [
    {
     "data": {
      "text/html": [
       "<style>#sk-container-id-1 {color: black;}#sk-container-id-1 pre{padding: 0;}#sk-container-id-1 div.sk-toggleable {background-color: white;}#sk-container-id-1 label.sk-toggleable__label {cursor: pointer;display: block;width: 100%;margin-bottom: 0;padding: 0.3em;box-sizing: border-box;text-align: center;}#sk-container-id-1 label.sk-toggleable__label-arrow:before {content: \"▸\";float: left;margin-right: 0.25em;color: #696969;}#sk-container-id-1 label.sk-toggleable__label-arrow:hover:before {color: black;}#sk-container-id-1 div.sk-estimator:hover label.sk-toggleable__label-arrow:before {color: black;}#sk-container-id-1 div.sk-toggleable__content {max-height: 0;max-width: 0;overflow: hidden;text-align: left;background-color: #f0f8ff;}#sk-container-id-1 div.sk-toggleable__content pre {margin: 0.2em;color: black;border-radius: 0.25em;background-color: #f0f8ff;}#sk-container-id-1 input.sk-toggleable__control:checked~div.sk-toggleable__content {max-height: 200px;max-width: 100%;overflow: auto;}#sk-container-id-1 input.sk-toggleable__control:checked~label.sk-toggleable__label-arrow:before {content: \"▾\";}#sk-container-id-1 div.sk-estimator input.sk-toggleable__control:checked~label.sk-toggleable__label {background-color: #d4ebff;}#sk-container-id-1 div.sk-label input.sk-toggleable__control:checked~label.sk-toggleable__label {background-color: #d4ebff;}#sk-container-id-1 input.sk-hidden--visually {border: 0;clip: rect(1px 1px 1px 1px);clip: rect(1px, 1px, 1px, 1px);height: 1px;margin: -1px;overflow: hidden;padding: 0;position: absolute;width: 1px;}#sk-container-id-1 div.sk-estimator {font-family: monospace;background-color: #f0f8ff;border: 1px dotted black;border-radius: 0.25em;box-sizing: border-box;margin-bottom: 0.5em;}#sk-container-id-1 div.sk-estimator:hover {background-color: #d4ebff;}#sk-container-id-1 div.sk-parallel-item::after {content: \"\";width: 100%;border-bottom: 1px solid gray;flex-grow: 1;}#sk-container-id-1 div.sk-label:hover label.sk-toggleable__label {background-color: #d4ebff;}#sk-container-id-1 div.sk-serial::before {content: \"\";position: absolute;border-left: 1px solid gray;box-sizing: border-box;top: 0;bottom: 0;left: 50%;z-index: 0;}#sk-container-id-1 div.sk-serial {display: flex;flex-direction: column;align-items: center;background-color: white;padding-right: 0.2em;padding-left: 0.2em;position: relative;}#sk-container-id-1 div.sk-item {position: relative;z-index: 1;}#sk-container-id-1 div.sk-parallel {display: flex;align-items: stretch;justify-content: center;background-color: white;position: relative;}#sk-container-id-1 div.sk-item::before, #sk-container-id-1 div.sk-parallel-item::before {content: \"\";position: absolute;border-left: 1px solid gray;box-sizing: border-box;top: 0;bottom: 0;left: 50%;z-index: -1;}#sk-container-id-1 div.sk-parallel-item {display: flex;flex-direction: column;z-index: 1;position: relative;background-color: white;}#sk-container-id-1 div.sk-parallel-item:first-child::after {align-self: flex-end;width: 50%;}#sk-container-id-1 div.sk-parallel-item:last-child::after {align-self: flex-start;width: 50%;}#sk-container-id-1 div.sk-parallel-item:only-child::after {width: 0;}#sk-container-id-1 div.sk-dashed-wrapped {border: 1px dashed gray;margin: 0 0.4em 0.5em 0.4em;box-sizing: border-box;padding-bottom: 0.4em;background-color: white;}#sk-container-id-1 div.sk-label label {font-family: monospace;font-weight: bold;display: inline-block;line-height: 1.2em;}#sk-container-id-1 div.sk-label-container {text-align: center;}#sk-container-id-1 div.sk-container {/* jupyter's `normalize.less` sets `[hidden] { display: none; }` but bootstrap.min.css set `[hidden] { display: none !important; }` so we also need the `!important` here to be able to override the default hidden behavior on the sphinx rendered scikit-learn.org. See: https://github.com/scikit-learn/scikit-learn/issues/21755 */display: inline-block !important;position: relative;}#sk-container-id-1 div.sk-text-repr-fallback {display: none;}</style><div id=\"sk-container-id-1\" class=\"sk-top-container\"><div class=\"sk-text-repr-fallback\"><pre>BaggingRegressor(n_estimators=30, random_state=42)</pre><b>In a Jupyter environment, please rerun this cell to show the HTML representation or trust the notebook. <br />On GitHub, the HTML representation is unable to render, please try loading this page with nbviewer.org.</b></div><div class=\"sk-container\" hidden><div class=\"sk-item\"><div class=\"sk-estimator sk-toggleable\"><input class=\"sk-toggleable__control sk-hidden--visually\" id=\"sk-estimator-id-1\" type=\"checkbox\" checked><label for=\"sk-estimator-id-1\" class=\"sk-toggleable__label sk-toggleable__label-arrow\">BaggingRegressor</label><div class=\"sk-toggleable__content\"><pre>BaggingRegressor(n_estimators=30, random_state=42)</pre></div></div></div></div></div>"
      ],
      "text/plain": [
       "BaggingRegressor(n_estimators=30, random_state=42)"
      ]
     },
     "execution_count": 34,
     "metadata": {},
     "output_type": "execute_result"
    }
   ],
   "source": [
    "model.fit(X_train, y_train)"
   ]
  },
  {
   "cell_type": "code",
   "execution_count": 35,
   "id": "c717a86b",
   "metadata": {},
   "outputs": [],
   "source": [
    "y_pred = model.predict(X_test)"
   ]
  },
  {
   "cell_type": "code",
   "execution_count": 36,
   "id": "5384bf5a",
   "metadata": {},
   "outputs": [
    {
     "name": "stdout",
     "output_type": "stream",
     "text": [
      "0.9626909788123424\n"
     ]
    }
   ],
   "source": [
    "model_r2_score = r2_score(y_test,y_pred)\n",
    "print(model_r2_score)"
   ]
  },
  {
   "cell_type": "code",
   "execution_count": 37,
   "id": "671e1b64",
   "metadata": {
    "scrolled": true
   },
   "outputs": [
    {
     "name": "stdout",
     "output_type": "stream",
     "text": [
      "0.8123043690796415\n",
      "0.4807016983110685\n",
      "0.9012792958232434\n"
     ]
    }
   ],
   "source": [
    "model_mse = mean_squared_error(y_test,y_pred)\n",
    "model_mae = mean_absolute_error(y_test,y_pred)\n",
    "model_rmse = np.sqrt(model_mse)\n",
    "print(model_mse)\n",
    "print(model_mae)\n",
    "print(model_rmse)"
   ]
  },
  {
   "cell_type": "code",
   "execution_count": 38,
   "id": "cf97900e",
   "metadata": {},
   "outputs": [
    {
     "data": {
      "text/plain": [
       "0.962681118700149"
      ]
     },
     "execution_count": 38,
     "metadata": {},
     "output_type": "execute_result"
    }
   ],
   "source": [
    "Adjusted_r2_score = (1 - (1-model_r2_score)*(len(y_test)-1)/(len(y_test)-X_test.shape[1]-1))\n",
    "Adjusted_r2_score"
   ]
  },
  {
   "cell_type": "markdown",
   "id": "1dddfc93",
   "metadata": {},
   "source": [
    "### New prediction"
   ]
  },
  {
   "cell_type": "code",
   "execution_count": 68,
   "id": "6e9a94e0",
   "metadata": {},
   "outputs": [
    {
     "name": "stdout",
     "output_type": "stream",
     "text": [
      "<class 'pandas.core.frame.DataFrame'>\n",
      "RangeIndex: 181673 entries, 0 to 181672\n",
      "Data columns (total 13 columns):\n",
      " #   Column               Non-Null Count   Dtype  \n",
      "---  ------               --------------   -----  \n",
      " 0   quantity tons        181673 non-null  float64\n",
      " 1   customer             181673 non-null  float64\n",
      " 2   country              181673 non-null  float64\n",
      " 3   status               181673 non-null  int64  \n",
      " 4   item type            181673 non-null  int64  \n",
      " 5   application          181673 non-null  float64\n",
      " 6   thickness            181673 non-null  float64\n",
      " 7   width                181673 non-null  float64\n",
      " 8   product_ref          181673 non-null  int64  \n",
      " 9   selling_price        181673 non-null  float64\n",
      " 10  item_delivery_year   181673 non-null  int32  \n",
      " 11  item_delivery_month  181673 non-null  int32  \n",
      " 12  item_delivery_date   181673 non-null  int32  \n",
      "dtypes: float64(7), int32(3), int64(3)\n",
      "memory usage: 15.9 MB\n"
     ]
    }
   ],
   "source": [
    "df.info()"
   ]
  },
  {
   "cell_type": "code",
   "execution_count": 39,
   "id": "0eeabfc6",
   "metadata": {},
   "outputs": [],
   "source": [
    "status = {'Won': 116012, 'Lost': 34438, 'Not lost for AM': 19573, 'Revised': 4276, 'To be approved': 4170, 'Draft': 3140, 'Offered': 53, 'Offerable': 10, 'Wonderful': 1}"
   ]
  },
  {
   "cell_type": "code",
   "execution_count": 41,
   "id": "4b71fbd4",
   "metadata": {},
   "outputs": [],
   "source": [
    "item_type = {'W': 105615, 'S': 69236, 'PL': 5660, 'Others': 610, 'WI': 524, 'IPL': 27, 'SLAWR': 1}"
   ]
  },
  {
   "cell_type": "code",
   "execution_count": 46,
   "id": "1ed87b68",
   "metadata": {},
   "outputs": [],
   "source": [
    "country = [ 28.,  25.,  30.,  32.,  38.,  78.,  27.,  77., 113.,  79.,  26., 39.,  40.,  84.,  80., 107.,  89.]"
   ]
  },
  {
   "cell_type": "code",
   "execution_count": 47,
   "id": "f430445e",
   "metadata": {},
   "outputs": [],
   "source": [
    "application = [10., 41., 28., 59., 15.,  4., 38., 56., 42., 26., 27., 19., 20., 66., 29., 22., 40., 25., 67., 79.,\n",
    "               3., 99.,  2.,  5., 39., 69., 70., 65., 58., 68.]"
   ]
  },
  {
   "cell_type": "code",
   "execution_count": 48,
   "id": "45c6edac",
   "metadata": {},
   "outputs": [],
   "source": [
    "product_ref = [1670798778, 1668701718,     628377,     640665,     611993, 1668701376,  164141591, 1671863738, 1332077137,     640405,\n",
    "              1693867550, 1665572374, 1282007633, 1668701698,     628117, 1690738206,     628112,     640400, 1671876026,\n",
    "              164336407, 164337175, 1668701725, 1665572032,     611728, 1721130331, 1693867563, 611733, 1690738219, \n",
    "               1722207579,  929423819, 1665584320, 1665584662, 1665584642]"
   ]
  },
  {
   "cell_type": "code",
   "execution_count": 45,
   "id": "63992ecd",
   "metadata": {},
   "outputs": [
    {
     "data": {
      "text/plain": [
       "count    1.816730e+05\n",
       "mean     3.051221e+07\n",
       "std      2.433375e+07\n",
       "min      1.245800e+04\n",
       "25%      3.019688e+07\n",
       "50%      3.020524e+07\n",
       "75%      3.028042e+07\n",
       "max      2.147484e+09\n",
       "Name: customer, dtype: float64"
      ]
     },
     "execution_count": 45,
     "metadata": {},
     "output_type": "execute_result"
    }
   ],
   "source": [
    "df['customer'].describe()"
   ]
  },
  {
   "cell_type": "code",
   "execution_count": 50,
   "id": "8cc76d86",
   "metadata": {
    "scrolled": true
   },
   "outputs": [
    {
     "data": {
      "text/plain": [
       "Index(['quantity tons', 'customer', 'country', 'status', 'item type',\n",
       "       'application', 'thickness', 'width', 'product_ref', 'selling_price',\n",
       "       'item_delivery_year', 'item_delivery_month', 'item_delivery_date'],\n",
       "      dtype='object')"
      ]
     },
     "execution_count": 50,
     "metadata": {},
     "output_type": "execute_result"
    }
   ],
   "source": [
    "df.columns"
   ]
  },
  {
   "cell_type": "code",
   "execution_count": 48,
   "id": "bb2e270e",
   "metadata": {},
   "outputs": [],
   "source": [
    "new_value = np.array([500, 250000, 32., 19573, 69236, 56., 15, 1540, 1668701376, 2003, 5, 25]).reshape(1,-1)"
   ]
  },
  {
   "cell_type": "code",
   "execution_count": 49,
   "id": "f358fcc3",
   "metadata": {},
   "outputs": [
    {
     "data": {
      "text/plain": [
       "array([[5.00000000e+02, 2.50000000e+05, 3.20000000e+01, 1.95730000e+04,\n",
       "        6.92360000e+04, 5.60000000e+01, 1.50000000e+01, 1.54000000e+03,\n",
       "        1.66870138e+09, 2.00300000e+03, 5.00000000e+00, 2.50000000e+01]])"
      ]
     },
     "execution_count": 49,
     "metadata": {},
     "output_type": "execute_result"
    }
   ],
   "source": [
    "new_value"
   ]
  },
  {
   "cell_type": "code",
   "execution_count": 50,
   "id": "276ffd1a",
   "metadata": {
    "scrolled": false
   },
   "outputs": [],
   "source": [
    "selling_price = (model.predict(new_value))**2"
   ]
  },
  {
   "cell_type": "code",
   "execution_count": 51,
   "id": "9182ba9f",
   "metadata": {},
   "outputs": [
    {
     "data": {
      "text/plain": [
       "864"
      ]
     },
     "execution_count": 51,
     "metadata": {},
     "output_type": "execute_result"
    }
   ],
   "source": [
    "round(selling_price[0])"
   ]
  },
  {
   "cell_type": "code",
   "execution_count": 52,
   "id": "664cd755",
   "metadata": {},
   "outputs": [
    {
     "data": {
      "text/html": [
       "<div>\n",
       "<style scoped>\n",
       "    .dataframe tbody tr th:only-of-type {\n",
       "        vertical-align: middle;\n",
       "    }\n",
       "\n",
       "    .dataframe tbody tr th {\n",
       "        vertical-align: top;\n",
       "    }\n",
       "\n",
       "    .dataframe thead th {\n",
       "        text-align: right;\n",
       "    }\n",
       "</style>\n",
       "<table border=\"1\" class=\"dataframe\">\n",
       "  <thead>\n",
       "    <tr style=\"text-align: right;\">\n",
       "      <th></th>\n",
       "      <th>quantity tons</th>\n",
       "      <th>customer</th>\n",
       "      <th>country</th>\n",
       "      <th>status</th>\n",
       "      <th>item type</th>\n",
       "      <th>application</th>\n",
       "      <th>thickness</th>\n",
       "      <th>width</th>\n",
       "      <th>product_ref</th>\n",
       "      <th>item_delivery_year</th>\n",
       "      <th>item_delivery_month</th>\n",
       "      <th>item_delivery_date</th>\n",
       "    </tr>\n",
       "  </thead>\n",
       "  <tbody>\n",
       "    <tr>\n",
       "      <th>46308</th>\n",
       "      <td>2.125729</td>\n",
       "      <td>30160005.0</td>\n",
       "      <td>78.0</td>\n",
       "      <td>116012</td>\n",
       "      <td>105615</td>\n",
       "      <td>41.0</td>\n",
       "      <td>-0.755023</td>\n",
       "      <td>1246.0</td>\n",
       "      <td>611993</td>\n",
       "      <td>2021</td>\n",
       "      <td>2</td>\n",
       "      <td>2</td>\n",
       "    </tr>\n",
       "    <tr>\n",
       "      <th>29893</th>\n",
       "      <td>4.614464</td>\n",
       "      <td>30394817.0</td>\n",
       "      <td>78.0</td>\n",
       "      <td>116012</td>\n",
       "      <td>105615</td>\n",
       "      <td>10.0</td>\n",
       "      <td>-0.693147</td>\n",
       "      <td>1250.0</td>\n",
       "      <td>611993</td>\n",
       "      <td>2021</td>\n",
       "      <td>3</td>\n",
       "      <td>1</td>\n",
       "    </tr>\n",
       "    <tr>\n",
       "      <th>159082</th>\n",
       "      <td>4.654407</td>\n",
       "      <td>30161289.0</td>\n",
       "      <td>26.0</td>\n",
       "      <td>116012</td>\n",
       "      <td>69236</td>\n",
       "      <td>10.0</td>\n",
       "      <td>-0.287682</td>\n",
       "      <td>1300.0</td>\n",
       "      <td>1668701718</td>\n",
       "      <td>2020</td>\n",
       "      <td>8</td>\n",
       "      <td>12</td>\n",
       "    </tr>\n",
       "    <tr>\n",
       "      <th>108098</th>\n",
       "      <td>3.515408</td>\n",
       "      <td>30203192.0</td>\n",
       "      <td>27.0</td>\n",
       "      <td>34438</td>\n",
       "      <td>69236</td>\n",
       "      <td>15.0</td>\n",
       "      <td>-0.356675</td>\n",
       "      <td>1250.0</td>\n",
       "      <td>628377</td>\n",
       "      <td>2020</td>\n",
       "      <td>11</td>\n",
       "      <td>6</td>\n",
       "    </tr>\n",
       "    <tr>\n",
       "      <th>2960</th>\n",
       "      <td>2.344968</td>\n",
       "      <td>30153510.0</td>\n",
       "      <td>30.0</td>\n",
       "      <td>116012</td>\n",
       "      <td>105615</td>\n",
       "      <td>41.0</td>\n",
       "      <td>-0.765718</td>\n",
       "      <td>1260.0</td>\n",
       "      <td>611993</td>\n",
       "      <td>2021</td>\n",
       "      <td>3</td>\n",
       "      <td>29</td>\n",
       "    </tr>\n",
       "    <tr>\n",
       "      <th>...</th>\n",
       "      <td>...</td>\n",
       "      <td>...</td>\n",
       "      <td>...</td>\n",
       "      <td>...</td>\n",
       "      <td>...</td>\n",
       "      <td>...</td>\n",
       "      <td>...</td>\n",
       "      <td>...</td>\n",
       "      <td>...</td>\n",
       "      <td>...</td>\n",
       "      <td>...</td>\n",
       "      <td>...</td>\n",
       "    </tr>\n",
       "    <tr>\n",
       "      <th>135201</th>\n",
       "      <td>3.627290</td>\n",
       "      <td>30287099.0</td>\n",
       "      <td>32.0</td>\n",
       "      <td>34438</td>\n",
       "      <td>105615</td>\n",
       "      <td>41.0</td>\n",
       "      <td>-0.597837</td>\n",
       "      <td>1220.0</td>\n",
       "      <td>611993</td>\n",
       "      <td>2020</td>\n",
       "      <td>9</td>\n",
       "      <td>29</td>\n",
       "    </tr>\n",
       "    <tr>\n",
       "      <th>138613</th>\n",
       "      <td>1.472248</td>\n",
       "      <td>30205825.0</td>\n",
       "      <td>25.0</td>\n",
       "      <td>116012</td>\n",
       "      <td>105615</td>\n",
       "      <td>10.0</td>\n",
       "      <td>-0.223144</td>\n",
       "      <td>1250.0</td>\n",
       "      <td>1332077137</td>\n",
       "      <td>2020</td>\n",
       "      <td>9</td>\n",
       "      <td>24</td>\n",
       "    </tr>\n",
       "    <tr>\n",
       "      <th>110531</th>\n",
       "      <td>5.345906</td>\n",
       "      <td>30201306.0</td>\n",
       "      <td>26.0</td>\n",
       "      <td>19573</td>\n",
       "      <td>69236</td>\n",
       "      <td>28.0</td>\n",
       "      <td>-0.916291</td>\n",
       "      <td>1210.0</td>\n",
       "      <td>628377</td>\n",
       "      <td>2020</td>\n",
       "      <td>11</td>\n",
       "      <td>3</td>\n",
       "    </tr>\n",
       "    <tr>\n",
       "      <th>173592</th>\n",
       "      <td>4.360523</td>\n",
       "      <td>30155824.0</td>\n",
       "      <td>25.0</td>\n",
       "      <td>116012</td>\n",
       "      <td>105615</td>\n",
       "      <td>10.0</td>\n",
       "      <td>-0.040822</td>\n",
       "      <td>1250.0</td>\n",
       "      <td>611993</td>\n",
       "      <td>2020</td>\n",
       "      <td>7</td>\n",
       "      <td>13</td>\n",
       "    </tr>\n",
       "    <tr>\n",
       "      <th>26545</th>\n",
       "      <td>3.931481</td>\n",
       "      <td>30203192.0</td>\n",
       "      <td>27.0</td>\n",
       "      <td>34438</td>\n",
       "      <td>69236</td>\n",
       "      <td>15.0</td>\n",
       "      <td>-0.223144</td>\n",
       "      <td>1250.0</td>\n",
       "      <td>1332077137</td>\n",
       "      <td>2021</td>\n",
       "      <td>3</td>\n",
       "      <td>3</td>\n",
       "    </tr>\n",
       "  </tbody>\n",
       "</table>\n",
       "<p>45419 rows × 12 columns</p>\n",
       "</div>"
      ],
      "text/plain": [
       "        quantity tons    customer  country  status  item type  application   \n",
       "46308        2.125729  30160005.0     78.0  116012     105615         41.0  \\\n",
       "29893        4.614464  30394817.0     78.0  116012     105615         10.0   \n",
       "159082       4.654407  30161289.0     26.0  116012      69236         10.0   \n",
       "108098       3.515408  30203192.0     27.0   34438      69236         15.0   \n",
       "2960         2.344968  30153510.0     30.0  116012     105615         41.0   \n",
       "...               ...         ...      ...     ...        ...          ...   \n",
       "135201       3.627290  30287099.0     32.0   34438     105615         41.0   \n",
       "138613       1.472248  30205825.0     25.0  116012     105615         10.0   \n",
       "110531       5.345906  30201306.0     26.0   19573      69236         28.0   \n",
       "173592       4.360523  30155824.0     25.0  116012     105615         10.0   \n",
       "26545        3.931481  30203192.0     27.0   34438      69236         15.0   \n",
       "\n",
       "        thickness   width  product_ref  item_delivery_year   \n",
       "46308   -0.755023  1246.0       611993                2021  \\\n",
       "29893   -0.693147  1250.0       611993                2021   \n",
       "159082  -0.287682  1300.0   1668701718                2020   \n",
       "108098  -0.356675  1250.0       628377                2020   \n",
       "2960    -0.765718  1260.0       611993                2021   \n",
       "...           ...     ...          ...                 ...   \n",
       "135201  -0.597837  1220.0       611993                2020   \n",
       "138613  -0.223144  1250.0   1332077137                2020   \n",
       "110531  -0.916291  1210.0       628377                2020   \n",
       "173592  -0.040822  1250.0       611993                2020   \n",
       "26545   -0.223144  1250.0   1332077137                2021   \n",
       "\n",
       "        item_delivery_month  item_delivery_date  \n",
       "46308                     2                   2  \n",
       "29893                     3                   1  \n",
       "159082                    8                  12  \n",
       "108098                   11                   6  \n",
       "2960                      3                  29  \n",
       "...                     ...                 ...  \n",
       "135201                    9                  29  \n",
       "138613                    9                  24  \n",
       "110531                   11                   3  \n",
       "173592                    7                  13  \n",
       "26545                     3                   3  \n",
       "\n",
       "[45419 rows x 12 columns]"
      ]
     },
     "execution_count": 52,
     "metadata": {},
     "output_type": "execute_result"
    }
   ],
   "source": [
    "X_test"
   ]
  },
  {
   "cell_type": "code",
   "execution_count": 53,
   "id": "6a3b83e9",
   "metadata": {},
   "outputs": [],
   "source": [
    "x_test_26545 = np.array(X_test.loc[26545]).reshape(1,-1)"
   ]
  },
  {
   "cell_type": "code",
   "execution_count": 54,
   "id": "1580b24b",
   "metadata": {},
   "outputs": [],
   "source": [
    "selling_price = (model.predict(x_test_26545))**2"
   ]
  },
  {
   "cell_type": "code",
   "execution_count": 57,
   "id": "efef2d73",
   "metadata": {},
   "outputs": [
    {
     "data": {
      "text/plain": [
       "1001"
      ]
     },
     "execution_count": 57,
     "metadata": {},
     "output_type": "execute_result"
    }
   ],
   "source": [
    "round(selling_price[0])"
   ]
  },
  {
   "cell_type": "code",
   "execution_count": 58,
   "id": "e028a232",
   "metadata": {},
   "outputs": [
    {
     "data": {
      "text/plain": [
       "1001"
      ]
     },
     "execution_count": 58,
     "metadata": {},
     "output_type": "execute_result"
    }
   ],
   "source": [
    "round(y_test.loc[26545]**2)"
   ]
  },
  {
   "cell_type": "code",
   "execution_count": null,
   "id": "993cebf9",
   "metadata": {},
   "outputs": [],
   "source": []
  },
  {
   "cell_type": "code",
   "execution_count": null,
   "id": "d8940b9b",
   "metadata": {},
   "outputs": [],
   "source": []
  },
  {
   "cell_type": "code",
   "execution_count": null,
   "id": "3b8abb72",
   "metadata": {},
   "outputs": [],
   "source": []
  },
  {
   "cell_type": "code",
   "execution_count": 41,
   "id": "db03b1b7",
   "metadata": {},
   "outputs": [],
   "source": [
    "import pickle"
   ]
  },
  {
   "cell_type": "code",
   "execution_count": 42,
   "id": "077d0f0f",
   "metadata": {},
   "outputs": [],
   "source": [
    "pickle.dump(model, open('copper_reg_model.pkl','wb'))"
   ]
  },
  {
   "cell_type": "code",
   "execution_count": null,
   "id": "5ceaded6",
   "metadata": {},
   "outputs": [],
   "source": [
    "copper_model = pickle.load(open('copper_reg_model.pkl', 'rb'))"
   ]
  },
  {
   "cell_type": "code",
   "execution_count": null,
   "id": "722be15e",
   "metadata": {},
   "outputs": [],
   "source": [
    "copper_model.predict(X_test[2].reshape(1,-1))"
   ]
  },
  {
   "cell_type": "code",
   "execution_count": null,
   "id": "9968f721",
   "metadata": {},
   "outputs": [],
   "source": [
    "pickle.dump(scaler,open('transformation_copper_df.pkl','wb'))"
   ]
  },
  {
   "cell_type": "code",
   "execution_count": null,
   "id": "22195ab3",
   "metadata": {},
   "outputs": [],
   "source": []
  },
  {
   "cell_type": "code",
   "execution_count": 43,
   "id": "975f53d2",
   "metadata": {},
   "outputs": [],
   "source": [
    "import bz2file as bz2"
   ]
  },
  {
   "cell_type": "code",
   "execution_count": 44,
   "id": "bd9af143",
   "metadata": {},
   "outputs": [],
   "source": [
    "def compressed_pickle(filename, data):\n",
    "    with bz2.BZ2File(filename + '.pbz2', 'w') as f:\n",
    "        pickle.dump(data, f)"
   ]
  },
  {
   "cell_type": "code",
   "execution_count": 45,
   "id": "8d56359e",
   "metadata": {},
   "outputs": [],
   "source": [
    "compressed_pickle('copper_reg_model', model)"
   ]
  },
  {
   "cell_type": "code",
   "execution_count": 1,
   "id": "7a37b262",
   "metadata": {},
   "outputs": [],
   "source": [
    "def decompress_pickle(file):\n",
    "    data = bz2.BZ2File(file, 'rb')\n",
    "    data = pickle.load(data)\n",
    "    return data"
   ]
  },
  {
   "cell_type": "raw",
   "id": "fc42da89",
   "metadata": {},
   "source": [
    "reg_model = decompress_pickle('copper_reg_model.pbz2')"
   ]
  },
  {
   "cell_type": "code",
   "execution_count": null,
   "id": "772945fb",
   "metadata": {},
   "outputs": [],
   "source": []
  },
  {
   "cell_type": "code",
   "execution_count": null,
   "id": "c919a6db",
   "metadata": {},
   "outputs": [],
   "source": []
  },
  {
   "cell_type": "code",
   "execution_count": 39,
   "id": "158370b3",
   "metadata": {},
   "outputs": [
    {
     "data": {
      "text/plain": [
       "['copper_reg_model']"
      ]
     },
     "execution_count": 39,
     "metadata": {},
     "output_type": "execute_result"
    }
   ],
   "source": [
    "import joblib\n",
    "joblib.dump(model, 'copper_reg_model',compress=9)"
   ]
  },
  {
   "cell_type": "code",
   "execution_count": 40,
   "id": "ed05ff6e",
   "metadata": {},
   "outputs": [],
   "source": [
    "uncompressed_model = joblib.load('copper_reg_model')"
   ]
  },
  {
   "cell_type": "code",
   "execution_count": 64,
   "id": "6f70ff5b",
   "metadata": {},
   "outputs": [],
   "source": [
    "sp = (uncompressed_model.predict(x_test_26545))**2"
   ]
  },
  {
   "cell_type": "code",
   "execution_count": 66,
   "id": "f0faaced",
   "metadata": {},
   "outputs": [
    {
     "data": {
      "text/plain": [
       "1001"
      ]
     },
     "execution_count": 66,
     "metadata": {},
     "output_type": "execute_result"
    }
   ],
   "source": [
    "round(sp[0])"
   ]
  },
  {
   "cell_type": "code",
   "execution_count": null,
   "id": "5d665732",
   "metadata": {},
   "outputs": [],
   "source": []
  },
  {
   "cell_type": "code",
   "execution_count": 49,
   "id": "4e93cbf0",
   "metadata": {},
   "outputs": [],
   "source": [
    "import gzip, pickle\n",
    "with gzip.open('finalized_model.pkl.gz', 'wb') as ofp:\n",
    "    pickle.dump(model, ofp)"
   ]
  },
  {
   "cell_type": "code",
   "execution_count": 50,
   "id": "b65d2150",
   "metadata": {},
   "outputs": [],
   "source": [
    "with gzip.open('finalized_model.pkl.gz', 'rb') as ifp:\n",
    "    uncompressed_model1 = pickle.load(ifp)"
   ]
  },
  {
   "cell_type": "code",
   "execution_count": 69,
   "id": "b7805dd6",
   "metadata": {},
   "outputs": [
    {
     "data": {
      "text/plain": [
       "array([21.68635201])"
      ]
     },
     "execution_count": 69,
     "metadata": {},
     "output_type": "execute_result"
    }
   ],
   "source": [
    "uncompressed_model1.predict(X_test[2].reshape(1,-1))"
   ]
  },
  {
   "cell_type": "code",
   "execution_count": null,
   "id": "941ec8f6",
   "metadata": {},
   "outputs": [],
   "source": []
  },
  {
   "cell_type": "code",
   "execution_count": null,
   "id": "28d80dbd",
   "metadata": {},
   "outputs": [],
   "source": []
  },
  {
   "cell_type": "code",
   "execution_count": 67,
   "id": "c17989b3",
   "metadata": {},
   "outputs": [
    {
     "ename": "NameError",
     "evalue": "name 'quantity_tons' is not defined",
     "output_type": "error",
     "traceback": [
      "\u001b[1;31m---------------------------------------------------------------------------\u001b[0m",
      "\u001b[1;31mNameError\u001b[0m                                 Traceback (most recent call last)",
      "Cell \u001b[1;32mIn[67], line 1\u001b[0m\n\u001b[1;32m----> 1\u001b[0m fns_input \u001b[38;5;241m=\u001b[39m [np\u001b[38;5;241m.\u001b[39mlog(\u001b[43mquantity_tons\u001b[49m), customer, selected_country, status[selected_status],\n\u001b[0;32m      2\u001b[0m                     item_type[selected_item_type], selected_application, np\u001b[38;5;241m.\u001b[39mlog(thickness), width, selected_product_ref,\n\u001b[0;32m      3\u001b[0m                     item_year, item_month, item_date]\n",
      "\u001b[1;31mNameError\u001b[0m: name 'quantity_tons' is not defined"
     ]
    }
   ],
   "source": [
    "fns_input = [np.log(quantity_tons), customer, selected_country, status[selected_status],\n",
    "                    item_type[selected_item_type], selected_application, np.log(thickness), width, selected_product_ref,\n",
    "                    item_year, item_month, item_date]"
   ]
  },
  {
   "cell_type": "code",
   "execution_count": null,
   "id": "84f2a0a1",
   "metadata": {},
   "outputs": [],
   "source": []
  }
 ],
 "metadata": {
  "kernelspec": {
   "display_name": "Python 3 (ipykernel)",
   "language": "python",
   "name": "python3"
  },
  "language_info": {
   "codemirror_mode": {
    "name": "ipython",
    "version": 3
   },
   "file_extension": ".py",
   "mimetype": "text/x-python",
   "name": "python",
   "nbconvert_exporter": "python",
   "pygments_lexer": "ipython3",
   "version": "3.11.2"
  }
 },
 "nbformat": 4,
 "nbformat_minor": 5
}
