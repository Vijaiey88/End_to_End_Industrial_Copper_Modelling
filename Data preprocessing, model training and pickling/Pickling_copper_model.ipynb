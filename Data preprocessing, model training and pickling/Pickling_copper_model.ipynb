{
 "cells": [
  {
   "cell_type": "markdown",
   "id": "b843b16f",
   "metadata": {},
   "source": [
    "## Import necessary libraries"
   ]
  },
  {
   "cell_type": "code",
   "execution_count": 1,
   "id": "e3aa0b9d",
   "metadata": {},
   "outputs": [],
   "source": [
    "import pandas as pd\n",
    "import numpy as np\n",
    "import seaborn as sns\n",
    "import matplotlib.pyplot as plt\n",
    "from sklearn.model_selection import train_test_split\n",
    "from sklearn.metrics import mean_absolute_error,mean_squared_error\n",
    "from sklearn.metrics import r2_score\n",
    "from sklearn.ensemble import BaggingRegressor\n",
    "import warnings\n",
    "warnings.filterwarnings('ignore')"
   ]
  },
  {
   "cell_type": "code",
   "execution_count": 4,
   "id": "0de89f07",
   "metadata": {},
   "outputs": [],
   "source": [
    "df = pd.read_csv(r\"H:\\Projects\\End_to_End_Industrial_Copper_Modelling\\Databook\\Copper_Set.csv\")"
   ]
  },
  {
   "cell_type": "code",
   "execution_count": 5,
   "id": "febd97d8",
   "metadata": {},
   "outputs": [],
   "source": [
    "df.drop(columns=['id', 'delivery date', 'material_ref'], axis=1, inplace=True)"
   ]
  },
  {
   "cell_type": "code",
   "execution_count": 6,
   "id": "f687cfc8",
   "metadata": {},
   "outputs": [],
   "source": [
    "df['item_date'] = df['item_date'].replace(19950000.0, 19950101.0)"
   ]
  },
  {
   "cell_type": "code",
   "execution_count": 7,
   "id": "acd3be86",
   "metadata": {},
   "outputs": [],
   "source": [
    "df['item_date'] = pd.to_datetime(df['item_date'], format='%Y%m%d', errors='coerce')"
   ]
  },
  {
   "cell_type": "code",
   "execution_count": 8,
   "id": "992a71da",
   "metadata": {},
   "outputs": [],
   "source": [
    "## since I got error while running format correction, I did this changes \n",
    "df['quantity tons'] = df['quantity tons'].replace('e', np.nan)"
   ]
  },
  {
   "cell_type": "code",
   "execution_count": 9,
   "id": "5b368df1",
   "metadata": {},
   "outputs": [],
   "source": [
    "df['quantity tons'] = pd.to_numeric(df['quantity tons'])"
   ]
  },
  {
   "cell_type": "code",
   "execution_count": 10,
   "id": "04dc7a17",
   "metadata": {},
   "outputs": [],
   "source": [
    "df['item_date'] = df['item_date'].fillna(df['item_date'].mode()[0])\n",
    "df['quantity tons'] = df['quantity tons'].fillna(df['quantity tons'].median())\n",
    "df['customer'] = df['customer'].fillna(df['customer'].mode()[0])\n",
    "df['country'] = df['country'].fillna(df['country'].median())\n",
    "df['status'] = df['status'].fillna(df['status'].mode()[0])\n",
    "df['application'] = df['application'].fillna(df['application'].median())\n",
    "df['thickness'] = df['thickness'].fillna(df['thickness'].median())\n",
    "df['selling_price'] = df['selling_price'].fillna(df['selling_price'].median())"
   ]
  },
  {
   "cell_type": "code",
   "execution_count": 11,
   "id": "61f3526f",
   "metadata": {
    "scrolled": false
   },
   "outputs": [
    {
     "name": "stdout",
     "output_type": "stream",
     "text": [
      "q1 10.9703737835989\n",
      "q3 67.1603846825272\n",
      "median 30.3646354529424\n",
      "iqr 56.19001089892829\n",
      "lower_bound -157.599658913186\n",
      "upper_bound 235.7304173793121\n"
     ]
    }
   ],
   "source": [
    "q1 = df['quantity tons'].quantile(0.25)\n",
    "print('q1', q1)\n",
    "q3 = df['quantity tons'].quantile(0.75)\n",
    "print('q3', q3)\n",
    "median = df['quantity tons'].median()\n",
    "print('median', median)\n",
    "iqr = q3 - q1\n",
    "print('iqr', iqr)\n",
    "lower_bound = q1 - 3 * iqr\n",
    "print('lower_bound', lower_bound)\n",
    "upper_bound = q3 + 3 * iqr\n",
    "print('upper_bound', upper_bound)"
   ]
  },
  {
   "cell_type": "code",
   "execution_count": 12,
   "id": "4c61391b",
   "metadata": {},
   "outputs": [],
   "source": [
    "##since weight cannot be negative but the values seems to be within range so i tried removing minus sign from the values to see how it works.\n",
    "df['quantity tons'] = np.where(df['quantity tons']<-1000, q1, df['quantity tons'])\n",
    "df['quantity tons'] = np.where(df['quantity tons']<0,df['quantity tons'].abs() , df['quantity tons'])"
   ]
  },
  {
   "cell_type": "code",
   "execution_count": 13,
   "id": "eab11712",
   "metadata": {},
   "outputs": [],
   "source": [
    "df['quantity tons'] = np.where(df['quantity tons']>1.000000e+05,upper_bound , df['quantity tons'])"
   ]
  },
  {
   "cell_type": "code",
   "execution_count": 14,
   "id": "172f03fc",
   "metadata": {},
   "outputs": [],
   "source": [
    "df['quantity_tons']  = np.log1p(df['quantity tons'])"
   ]
  },
  {
   "cell_type": "code",
   "execution_count": 15,
   "id": "dee684b2",
   "metadata": {},
   "outputs": [],
   "source": [
    "df.drop(columns='quantity tons', axis=1, inplace=True)"
   ]
  },
  {
   "cell_type": "code",
   "execution_count": 16,
   "id": "e0e2dafe",
   "metadata": {},
   "outputs": [
    {
     "name": "stdout",
     "output_type": "stream",
     "text": [
      "q1 0.7\n",
      "q3 3.0\n",
      "median 1.5\n",
      "iqr 2.3\n",
      "lower_bound -6.199999999999999\n",
      "upper_bound 9.899999999999999\n"
     ]
    }
   ],
   "source": [
    "q1 = df['thickness'].quantile(0.25)\n",
    "print('q1', q1)\n",
    "q3 = df['thickness'].quantile(0.75)\n",
    "print('q3', q3)\n",
    "median = df['thickness'].median()\n",
    "print('median', median)\n",
    "iqr = q3 - q1\n",
    "print('iqr', iqr)\n",
    "lower_bound = q1 - 3 * iqr\n",
    "print('lower_bound', lower_bound)\n",
    "upper_bound = q3 + 3 * iqr\n",
    "print('upper_bound', upper_bound)"
   ]
  },
  {
   "cell_type": "code",
   "execution_count": 17,
   "id": "0c099172",
   "metadata": {},
   "outputs": [],
   "source": [
    "df['thickness'] = np.where(df['thickness']>250, upper_bound, df['thickness'])"
   ]
  },
  {
   "cell_type": "code",
   "execution_count": 18,
   "id": "42aa35c8",
   "metadata": {},
   "outputs": [],
   "source": [
    "df['thickness'] = np.log1p(df['thickness'])"
   ]
  },
  {
   "cell_type": "code",
   "execution_count": 19,
   "id": "d3d56fc5",
   "metadata": {},
   "outputs": [
    {
     "name": "stdout",
     "output_type": "stream",
     "text": [
      "q1 669.0\n",
      "q3 953.0\n",
      "median 812.0\n",
      "iqr 284.0\n",
      "lower_bound -183.0\n",
      "upper_bound 1805.0\n"
     ]
    }
   ],
   "source": [
    "q1 = df['selling_price'].quantile(0.25)\n",
    "print('q1', q1)\n",
    "q3 = df['selling_price'].quantile(0.75)\n",
    "print('q3', q3)\n",
    "median = df['selling_price'].median()\n",
    "print('median', median)\n",
    "iqr = q3 - q1\n",
    "print('iqr', iqr)\n",
    "lower_bound = q1 - 3 * iqr\n",
    "print('lower_bound', lower_bound)\n",
    "upper_bound = q3 + 3 * iqr\n",
    "print('upper_bound', upper_bound)"
   ]
  },
  {
   "cell_type": "code",
   "execution_count": 20,
   "id": "ab8255f4",
   "metadata": {},
   "outputs": [],
   "source": [
    "df['selling_price'] = np.where(df['selling_price']<=0, q1, df['selling_price'])"
   ]
  },
  {
   "cell_type": "code",
   "execution_count": 21,
   "id": "4afefc52",
   "metadata": {},
   "outputs": [],
   "source": [
    "df['selling_price'] = np.where(df['selling_price']>1e4, upper_bound, df['selling_price'])"
   ]
  },
  {
   "cell_type": "code",
   "execution_count": 22,
   "id": "41a5b9bf",
   "metadata": {},
   "outputs": [],
   "source": [
    "df['selling_price'] = (df['selling_price'])**(1/2)"
   ]
  },
  {
   "cell_type": "code",
   "execution_count": 23,
   "id": "e0b84b0c",
   "metadata": {},
   "outputs": [],
   "source": [
    "## frequency or count encoding is done for status, item type, material_ref\n",
    "for feature in ['status', 'item type']:\n",
    "    feature_map = df[feature].value_counts().to_dict()\n",
    "    df[feature] = df[feature].map(feature_map)"
   ]
  },
  {
   "cell_type": "code",
   "execution_count": 24,
   "id": "06644f5e",
   "metadata": {},
   "outputs": [],
   "source": [
    "df = df.rename(columns={'item type': 'item_type'})"
   ]
  },
  {
   "cell_type": "code",
   "execution_count": 25,
   "id": "3bfed835",
   "metadata": {},
   "outputs": [],
   "source": [
    "df['item_date'] = df['item_date'].astype(str)"
   ]
  },
  {
   "cell_type": "code",
   "execution_count": 26,
   "id": "3c9baeb5",
   "metadata": {},
   "outputs": [],
   "source": [
    "df['item_delivery_year'] = df['item_date'].apply(lambda x : x.split('-')[0])\n",
    "df['item_delivery_month'] = df['item_date'].apply(lambda x : x.split('-')[1])\n",
    "df['item_delivery_date'] = df['item_date'].apply(lambda x : x.split('-')[2])"
   ]
  },
  {
   "cell_type": "code",
   "execution_count": 27,
   "id": "d45d0502",
   "metadata": {},
   "outputs": [],
   "source": [
    "df.drop(columns='item_date', axis=1,inplace=True)"
   ]
  },
  {
   "cell_type": "code",
   "execution_count": 28,
   "id": "f83cc9c5",
   "metadata": {},
   "outputs": [],
   "source": [
    "df['item_delivery_year'] = df['item_delivery_year'].astype(int)\n",
    "df['item_delivery_month'] = df['item_delivery_month'].astype(int)\n",
    "df['item_delivery_date'] = df['item_delivery_date'].astype(int)"
   ]
  },
  {
   "cell_type": "code",
   "execution_count": 29,
   "id": "664ae80b",
   "metadata": {},
   "outputs": [
    {
     "data": {
      "text/plain": [
       "count    181673.000000\n",
       "mean       2020.390085\n",
       "std           0.491424\n",
       "min        1995.000000\n",
       "25%        2020.000000\n",
       "50%        2020.000000\n",
       "75%        2021.000000\n",
       "max        2021.000000\n",
       "Name: item_delivery_year, dtype: float64"
      ]
     },
     "execution_count": 29,
     "metadata": {},
     "output_type": "execute_result"
    }
   ],
   "source": [
    "df['item_delivery_year'].describe()"
   ]
  },
  {
   "cell_type": "code",
   "execution_count": 30,
   "id": "a601b4f0",
   "metadata": {},
   "outputs": [
    {
     "name": "stdout",
     "output_type": "stream",
     "text": [
      "<class 'pandas.core.frame.DataFrame'>\n",
      "RangeIndex: 181673 entries, 0 to 181672\n",
      "Data columns (total 13 columns):\n",
      " #   Column               Non-Null Count   Dtype  \n",
      "---  ------               --------------   -----  \n",
      " 0   customer             181673 non-null  float64\n",
      " 1   country              181673 non-null  float64\n",
      " 2   status               181673 non-null  int64  \n",
      " 3   item_type            181673 non-null  int64  \n",
      " 4   application          181673 non-null  float64\n",
      " 5   thickness            181673 non-null  float64\n",
      " 6   width                181673 non-null  float64\n",
      " 7   product_ref          181673 non-null  int64  \n",
      " 8   selling_price        181673 non-null  float64\n",
      " 9   quantity_tons        181673 non-null  float64\n",
      " 10  item_delivery_year   181673 non-null  int32  \n",
      " 11  item_delivery_month  181673 non-null  int32  \n",
      " 12  item_delivery_date   181673 non-null  int32  \n",
      "dtypes: float64(7), int32(3), int64(3)\n",
      "memory usage: 15.9 MB\n"
     ]
    }
   ],
   "source": [
    "df.info()"
   ]
  },
  {
   "cell_type": "code",
   "execution_count": 31,
   "id": "76ace3a7",
   "metadata": {},
   "outputs": [
    {
     "data": {
      "text/plain": [
       "item_type\n",
       "105615    105615\n",
       "69236      69236\n",
       "5660        5660\n",
       "610          610\n",
       "524          524\n",
       "27            27\n",
       "1              1\n",
       "Name: count, dtype: int64"
      ]
     },
     "execution_count": 31,
     "metadata": {},
     "output_type": "execute_result"
    }
   ],
   "source": [
    "df['item_type'].value_counts()"
   ]
  },
  {
   "cell_type": "code",
   "execution_count": 32,
   "id": "4f50edda",
   "metadata": {},
   "outputs": [],
   "source": [
    "## Assigning features into input(X) and ouput(y)\n",
    "X = df.drop(labels=['selling_price'], axis=1)\n",
    "y = df['selling_price']"
   ]
  },
  {
   "cell_type": "code",
   "execution_count": 33,
   "id": "007ace4a",
   "metadata": {},
   "outputs": [],
   "source": [
    "## Splitting dataset for testing and training\n",
    "X_train, X_test, y_train, y_test = train_test_split(X, y, test_size=0.25, random_state=42)"
   ]
  },
  {
   "cell_type": "code",
   "execution_count": 32,
   "id": "58e1a97b",
   "metadata": {},
   "outputs": [
    {
     "data": {
      "text/html": [
       "<div>\n",
       "<style scoped>\n",
       "    .dataframe tbody tr th:only-of-type {\n",
       "        vertical-align: middle;\n",
       "    }\n",
       "\n",
       "    .dataframe tbody tr th {\n",
       "        vertical-align: top;\n",
       "    }\n",
       "\n",
       "    .dataframe thead th {\n",
       "        text-align: right;\n",
       "    }\n",
       "</style>\n",
       "<table border=\"1\" class=\"dataframe\">\n",
       "  <thead>\n",
       "    <tr style=\"text-align: right;\">\n",
       "      <th></th>\n",
       "      <th>customer</th>\n",
       "      <th>country</th>\n",
       "      <th>status</th>\n",
       "      <th>item_type</th>\n",
       "      <th>application</th>\n",
       "      <th>thickness</th>\n",
       "      <th>width</th>\n",
       "      <th>product_ref</th>\n",
       "      <th>selling_price</th>\n",
       "      <th>quantity_tons</th>\n",
       "      <th>item_delivery_year</th>\n",
       "      <th>item_delivery_month</th>\n",
       "      <th>item_delivery_date</th>\n",
       "    </tr>\n",
       "  </thead>\n",
       "  <tbody>\n",
       "    <tr>\n",
       "      <th>0</th>\n",
       "      <td>30156308.0</td>\n",
       "      <td>28.0</td>\n",
       "      <td>116012</td>\n",
       "      <td>105615</td>\n",
       "      <td>10.0</td>\n",
       "      <td>1.098612</td>\n",
       "      <td>1500.0</td>\n",
       "      <td>1670798778</td>\n",
       "      <td>29.223278</td>\n",
       "      <td>4.010077</td>\n",
       "      <td>2021</td>\n",
       "      <td>4</td>\n",
       "      <td>1</td>\n",
       "    </tr>\n",
       "    <tr>\n",
       "      <th>1</th>\n",
       "      <td>30202938.0</td>\n",
       "      <td>25.0</td>\n",
       "      <td>116012</td>\n",
       "      <td>105615</td>\n",
       "      <td>41.0</td>\n",
       "      <td>0.587787</td>\n",
       "      <td>1210.0</td>\n",
       "      <td>1668701718</td>\n",
       "      <td>32.357379</td>\n",
       "      <td>6.645123</td>\n",
       "      <td>2021</td>\n",
       "      <td>4</td>\n",
       "      <td>1</td>\n",
       "    </tr>\n",
       "    <tr>\n",
       "      <th>2</th>\n",
       "      <td>30153963.0</td>\n",
       "      <td>30.0</td>\n",
       "      <td>116012</td>\n",
       "      <td>524</td>\n",
       "      <td>28.0</td>\n",
       "      <td>0.322083</td>\n",
       "      <td>952.0</td>\n",
       "      <td>628377</td>\n",
       "      <td>25.383656</td>\n",
       "      <td>5.958755</td>\n",
       "      <td>2021</td>\n",
       "      <td>4</td>\n",
       "      <td>1</td>\n",
       "    </tr>\n",
       "    <tr>\n",
       "      <th>3</th>\n",
       "      <td>30349574.0</td>\n",
       "      <td>32.0</td>\n",
       "      <td>116012</td>\n",
       "      <td>69236</td>\n",
       "      <td>59.0</td>\n",
       "      <td>1.193922</td>\n",
       "      <td>1317.0</td>\n",
       "      <td>1668701718</td>\n",
       "      <td>27.712813</td>\n",
       "      <td>5.315229</td>\n",
       "      <td>2021</td>\n",
       "      <td>4</td>\n",
       "      <td>1</td>\n",
       "    </tr>\n",
       "    <tr>\n",
       "      <th>4</th>\n",
       "      <td>30211560.0</td>\n",
       "      <td>28.0</td>\n",
       "      <td>116012</td>\n",
       "      <td>105615</td>\n",
       "      <td>10.0</td>\n",
       "      <td>1.609438</td>\n",
       "      <td>2000.0</td>\n",
       "      <td>640665</td>\n",
       "      <td>24.020824</td>\n",
       "      <td>6.667626</td>\n",
       "      <td>2021</td>\n",
       "      <td>4</td>\n",
       "      <td>1</td>\n",
       "    </tr>\n",
       "    <tr>\n",
       "      <th>...</th>\n",
       "      <td>...</td>\n",
       "      <td>...</td>\n",
       "      <td>...</td>\n",
       "      <td>...</td>\n",
       "      <td>...</td>\n",
       "      <td>...</td>\n",
       "      <td>...</td>\n",
       "      <td>...</td>\n",
       "      <td>...</td>\n",
       "      <td>...</td>\n",
       "      <td>...</td>\n",
       "      <td>...</td>\n",
       "      <td>...</td>\n",
       "    </tr>\n",
       "    <tr>\n",
       "      <th>181668</th>\n",
       "      <td>30200854.0</td>\n",
       "      <td>25.0</td>\n",
       "      <td>116012</td>\n",
       "      <td>105615</td>\n",
       "      <td>41.0</td>\n",
       "      <td>0.672944</td>\n",
       "      <td>1220.0</td>\n",
       "      <td>164141591</td>\n",
       "      <td>24.310492</td>\n",
       "      <td>4.639402</td>\n",
       "      <td>2020</td>\n",
       "      <td>7</td>\n",
       "      <td>2</td>\n",
       "    </tr>\n",
       "    <tr>\n",
       "      <th>181669</th>\n",
       "      <td>30200854.0</td>\n",
       "      <td>25.0</td>\n",
       "      <td>116012</td>\n",
       "      <td>105615</td>\n",
       "      <td>41.0</td>\n",
       "      <td>0.667829</td>\n",
       "      <td>1500.0</td>\n",
       "      <td>164141591</td>\n",
       "      <td>24.269322</td>\n",
       "      <td>5.342748</td>\n",
       "      <td>2020</td>\n",
       "      <td>7</td>\n",
       "      <td>2</td>\n",
       "    </tr>\n",
       "    <tr>\n",
       "      <th>181670</th>\n",
       "      <td>30200854.0</td>\n",
       "      <td>25.0</td>\n",
       "      <td>116012</td>\n",
       "      <td>105615</td>\n",
       "      <td>41.0</td>\n",
       "      <td>0.536493</td>\n",
       "      <td>1250.0</td>\n",
       "      <td>164141591</td>\n",
       "      <td>24.879711</td>\n",
       "      <td>1.655480</td>\n",
       "      <td>2020</td>\n",
       "      <td>7</td>\n",
       "      <td>2</td>\n",
       "    </tr>\n",
       "    <tr>\n",
       "      <th>181671</th>\n",
       "      <td>30200854.0</td>\n",
       "      <td>25.0</td>\n",
       "      <td>116012</td>\n",
       "      <td>105615</td>\n",
       "      <td>41.0</td>\n",
       "      <td>0.615186</td>\n",
       "      <td>1250.0</td>\n",
       "      <td>164141591</td>\n",
       "      <td>24.515301</td>\n",
       "      <td>2.482435</td>\n",
       "      <td>2020</td>\n",
       "      <td>7</td>\n",
       "      <td>2</td>\n",
       "    </tr>\n",
       "    <tr>\n",
       "      <th>181672</th>\n",
       "      <td>30200854.0</td>\n",
       "      <td>25.0</td>\n",
       "      <td>116012</td>\n",
       "      <td>105615</td>\n",
       "      <td>41.0</td>\n",
       "      <td>0.536493</td>\n",
       "      <td>1240.0</td>\n",
       "      <td>164141591</td>\n",
       "      <td>24.637370</td>\n",
       "      <td>6.010499</td>\n",
       "      <td>2020</td>\n",
       "      <td>7</td>\n",
       "      <td>2</td>\n",
       "    </tr>\n",
       "  </tbody>\n",
       "</table>\n",
       "<p>181673 rows × 13 columns</p>\n",
       "</div>"
      ],
      "text/plain": [
       "          customer  country  status  item_type  application  thickness  \\\n",
       "0       30156308.0     28.0  116012     105615         10.0   1.098612   \n",
       "1       30202938.0     25.0  116012     105615         41.0   0.587787   \n",
       "2       30153963.0     30.0  116012        524         28.0   0.322083   \n",
       "3       30349574.0     32.0  116012      69236         59.0   1.193922   \n",
       "4       30211560.0     28.0  116012     105615         10.0   1.609438   \n",
       "...            ...      ...     ...        ...          ...        ...   \n",
       "181668  30200854.0     25.0  116012     105615         41.0   0.672944   \n",
       "181669  30200854.0     25.0  116012     105615         41.0   0.667829   \n",
       "181670  30200854.0     25.0  116012     105615         41.0   0.536493   \n",
       "181671  30200854.0     25.0  116012     105615         41.0   0.615186   \n",
       "181672  30200854.0     25.0  116012     105615         41.0   0.536493   \n",
       "\n",
       "         width  product_ref  selling_price  quantity_tons  item_delivery_year  \\\n",
       "0       1500.0   1670798778      29.223278       4.010077                2021   \n",
       "1       1210.0   1668701718      32.357379       6.645123                2021   \n",
       "2        952.0       628377      25.383656       5.958755                2021   \n",
       "3       1317.0   1668701718      27.712813       5.315229                2021   \n",
       "4       2000.0       640665      24.020824       6.667626                2021   \n",
       "...        ...          ...            ...            ...                 ...   \n",
       "181668  1220.0    164141591      24.310492       4.639402                2020   \n",
       "181669  1500.0    164141591      24.269322       5.342748                2020   \n",
       "181670  1250.0    164141591      24.879711       1.655480                2020   \n",
       "181671  1250.0    164141591      24.515301       2.482435                2020   \n",
       "181672  1240.0    164141591      24.637370       6.010499                2020   \n",
       "\n",
       "        item_delivery_month  item_delivery_date  \n",
       "0                         4                   1  \n",
       "1                         4                   1  \n",
       "2                         4                   1  \n",
       "3                         4                   1  \n",
       "4                         4                   1  \n",
       "...                     ...                 ...  \n",
       "181668                    7                   2  \n",
       "181669                    7                   2  \n",
       "181670                    7                   2  \n",
       "181671                    7                   2  \n",
       "181672                    7                   2  \n",
       "\n",
       "[181673 rows x 13 columns]"
      ]
     },
     "execution_count": 32,
     "metadata": {},
     "output_type": "execute_result"
    }
   ],
   "source": [
    "df"
   ]
  },
  {
   "cell_type": "code",
   "execution_count": 34,
   "id": "12308c94",
   "metadata": {},
   "outputs": [
    {
     "data": {
      "text/plain": [
       "Index(['customer', 'country', 'status', 'item_type', 'application',\n",
       "       'thickness', 'width', 'product_ref', 'quantity_tons',\n",
       "       'item_delivery_year', 'item_delivery_month', 'item_delivery_date'],\n",
       "      dtype='object')"
      ]
     },
     "execution_count": 34,
     "metadata": {},
     "output_type": "execute_result"
    }
   ],
   "source": [
    "X_train.columns"
   ]
  },
  {
   "cell_type": "code",
   "execution_count": 35,
   "id": "639df9e4",
   "metadata": {},
   "outputs": [],
   "source": [
    "model = BaggingRegressor(n_estimators=30, random_state=42)"
   ]
  },
  {
   "cell_type": "code",
   "execution_count": 36,
   "id": "286efafb",
   "metadata": {
    "scrolled": false
   },
   "outputs": [
    {
     "data": {
      "text/html": [
       "<style>#sk-container-id-1 {color: black;background-color: white;}#sk-container-id-1 pre{padding: 0;}#sk-container-id-1 div.sk-toggleable {background-color: white;}#sk-container-id-1 label.sk-toggleable__label {cursor: pointer;display: block;width: 100%;margin-bottom: 0;padding: 0.3em;box-sizing: border-box;text-align: center;}#sk-container-id-1 label.sk-toggleable__label-arrow:before {content: \"▸\";float: left;margin-right: 0.25em;color: #696969;}#sk-container-id-1 label.sk-toggleable__label-arrow:hover:before {color: black;}#sk-container-id-1 div.sk-estimator:hover label.sk-toggleable__label-arrow:before {color: black;}#sk-container-id-1 div.sk-toggleable__content {max-height: 0;max-width: 0;overflow: hidden;text-align: left;background-color: #f0f8ff;}#sk-container-id-1 div.sk-toggleable__content pre {margin: 0.2em;color: black;border-radius: 0.25em;background-color: #f0f8ff;}#sk-container-id-1 input.sk-toggleable__control:checked~div.sk-toggleable__content {max-height: 200px;max-width: 100%;overflow: auto;}#sk-container-id-1 input.sk-toggleable__control:checked~label.sk-toggleable__label-arrow:before {content: \"▾\";}#sk-container-id-1 div.sk-estimator input.sk-toggleable__control:checked~label.sk-toggleable__label {background-color: #d4ebff;}#sk-container-id-1 div.sk-label input.sk-toggleable__control:checked~label.sk-toggleable__label {background-color: #d4ebff;}#sk-container-id-1 input.sk-hidden--visually {border: 0;clip: rect(1px 1px 1px 1px);clip: rect(1px, 1px, 1px, 1px);height: 1px;margin: -1px;overflow: hidden;padding: 0;position: absolute;width: 1px;}#sk-container-id-1 div.sk-estimator {font-family: monospace;background-color: #f0f8ff;border: 1px dotted black;border-radius: 0.25em;box-sizing: border-box;margin-bottom: 0.5em;}#sk-container-id-1 div.sk-estimator:hover {background-color: #d4ebff;}#sk-container-id-1 div.sk-parallel-item::after {content: \"\";width: 100%;border-bottom: 1px solid gray;flex-grow: 1;}#sk-container-id-1 div.sk-label:hover label.sk-toggleable__label {background-color: #d4ebff;}#sk-container-id-1 div.sk-serial::before {content: \"\";position: absolute;border-left: 1px solid gray;box-sizing: border-box;top: 0;bottom: 0;left: 50%;z-index: 0;}#sk-container-id-1 div.sk-serial {display: flex;flex-direction: column;align-items: center;background-color: white;padding-right: 0.2em;padding-left: 0.2em;position: relative;}#sk-container-id-1 div.sk-item {position: relative;z-index: 1;}#sk-container-id-1 div.sk-parallel {display: flex;align-items: stretch;justify-content: center;background-color: white;position: relative;}#sk-container-id-1 div.sk-item::before, #sk-container-id-1 div.sk-parallel-item::before {content: \"\";position: absolute;border-left: 1px solid gray;box-sizing: border-box;top: 0;bottom: 0;left: 50%;z-index: -1;}#sk-container-id-1 div.sk-parallel-item {display: flex;flex-direction: column;z-index: 1;position: relative;background-color: white;}#sk-container-id-1 div.sk-parallel-item:first-child::after {align-self: flex-end;width: 50%;}#sk-container-id-1 div.sk-parallel-item:last-child::after {align-self: flex-start;width: 50%;}#sk-container-id-1 div.sk-parallel-item:only-child::after {width: 0;}#sk-container-id-1 div.sk-dashed-wrapped {border: 1px dashed gray;margin: 0 0.4em 0.5em 0.4em;box-sizing: border-box;padding-bottom: 0.4em;background-color: white;}#sk-container-id-1 div.sk-label label {font-family: monospace;font-weight: bold;display: inline-block;line-height: 1.2em;}#sk-container-id-1 div.sk-label-container {text-align: center;}#sk-container-id-1 div.sk-container {/* jupyter's `normalize.less` sets `[hidden] { display: none; }` but bootstrap.min.css set `[hidden] { display: none !important; }` so we also need the `!important` here to be able to override the default hidden behavior on the sphinx rendered scikit-learn.org. See: https://github.com/scikit-learn/scikit-learn/issues/21755 */display: inline-block !important;position: relative;}#sk-container-id-1 div.sk-text-repr-fallback {display: none;}</style><div id=\"sk-container-id-1\" class=\"sk-top-container\"><div class=\"sk-text-repr-fallback\"><pre>BaggingRegressor(n_estimators=30, random_state=42)</pre><b>In a Jupyter environment, please rerun this cell to show the HTML representation or trust the notebook. <br />On GitHub, the HTML representation is unable to render, please try loading this page with nbviewer.org.</b></div><div class=\"sk-container\" hidden><div class=\"sk-item\"><div class=\"sk-estimator sk-toggleable\"><input class=\"sk-toggleable__control sk-hidden--visually\" id=\"sk-estimator-id-1\" type=\"checkbox\" checked><label for=\"sk-estimator-id-1\" class=\"sk-toggleable__label sk-toggleable__label-arrow\">BaggingRegressor</label><div class=\"sk-toggleable__content\"><pre>BaggingRegressor(n_estimators=30, random_state=42)</pre></div></div></div></div></div>"
      ],
      "text/plain": [
       "BaggingRegressor(n_estimators=30, random_state=42)"
      ]
     },
     "execution_count": 36,
     "metadata": {},
     "output_type": "execute_result"
    }
   ],
   "source": [
    "model.fit(X_train, y_train)"
   ]
  },
  {
   "cell_type": "code",
   "execution_count": 37,
   "id": "c717a86b",
   "metadata": {},
   "outputs": [],
   "source": [
    "y_pred = model.predict(X_test)"
   ]
  },
  {
   "cell_type": "code",
   "execution_count": 38,
   "id": "5384bf5a",
   "metadata": {},
   "outputs": [
    {
     "name": "stdout",
     "output_type": "stream",
     "text": [
      "0.9626754619373032\n"
     ]
    }
   ],
   "source": [
    "model_r2_score = r2_score(y_test,y_pred)\n",
    "print(model_r2_score)"
   ]
  },
  {
   "cell_type": "code",
   "execution_count": 39,
   "id": "671e1b64",
   "metadata": {
    "scrolled": true
   },
   "outputs": [
    {
     "name": "stdout",
     "output_type": "stream",
     "text": [
      "0.8126422076234451\n",
      "0.4808075608894946\n",
      "0.9014666980113271\n"
     ]
    }
   ],
   "source": [
    "model_mse = mean_squared_error(y_test,y_pred)\n",
    "model_mae = mean_absolute_error(y_test,y_pred)\n",
    "model_rmse = np.sqrt(model_mse)\n",
    "print(model_mse)\n",
    "print(model_mae)\n",
    "print(model_rmse)"
   ]
  },
  {
   "cell_type": "code",
   "execution_count": 40,
   "id": "cf97900e",
   "metadata": {},
   "outputs": [
    {
     "data": {
      "text/plain": [
       "0.9626655977242752"
      ]
     },
     "execution_count": 40,
     "metadata": {},
     "output_type": "execute_result"
    }
   ],
   "source": [
    "Adjusted_r2_score = (1 - (1-model_r2_score)*(len(y_test)-1)/(len(y_test)-X_test.shape[1]-1))\n",
    "Adjusted_r2_score"
   ]
  },
  {
   "cell_type": "markdown",
   "id": "1dddfc93",
   "metadata": {},
   "source": [
    "### New prediction"
   ]
  },
  {
   "cell_type": "code",
   "execution_count": 68,
   "id": "6e9a94e0",
   "metadata": {},
   "outputs": [
    {
     "name": "stdout",
     "output_type": "stream",
     "text": [
      "<class 'pandas.core.frame.DataFrame'>\n",
      "RangeIndex: 181673 entries, 0 to 181672\n",
      "Data columns (total 13 columns):\n",
      " #   Column               Non-Null Count   Dtype  \n",
      "---  ------               --------------   -----  \n",
      " 0   quantity tons        181673 non-null  float64\n",
      " 1   customer             181673 non-null  float64\n",
      " 2   country              181673 non-null  float64\n",
      " 3   status               181673 non-null  int64  \n",
      " 4   item type            181673 non-null  int64  \n",
      " 5   application          181673 non-null  float64\n",
      " 6   thickness            181673 non-null  float64\n",
      " 7   width                181673 non-null  float64\n",
      " 8   product_ref          181673 non-null  int64  \n",
      " 9   selling_price        181673 non-null  float64\n",
      " 10  item_delivery_year   181673 non-null  int32  \n",
      " 11  item_delivery_month  181673 non-null  int32  \n",
      " 12  item_delivery_date   181673 non-null  int32  \n",
      "dtypes: float64(7), int32(3), int64(3)\n",
      "memory usage: 15.9 MB\n"
     ]
    }
   ],
   "source": [
    "df.info()"
   ]
  },
  {
   "cell_type": "code",
   "execution_count": null,
   "id": "6bf6b862",
   "metadata": {},
   "outputs": [],
   "source": [
    "fns_input = [np.log1p(float(quantity_tons)), float(customer), float(selected_country), int(status[selected_status]),\n",
    "                    int(item_type[selected_item_type]), float(selected_application), float(np.log1p(thickness)), float(width), int(selected_product_ref),\n",
    "                    int(item_year), int(item_month), int(item_date)]"
   ]
  },
  {
   "cell_type": "code",
   "execution_count": 39,
   "id": "0eeabfc6",
   "metadata": {},
   "outputs": [],
   "source": [
    "status = {'Won': 116012, 'Lost': 34438, 'Not lost for AM': 19573, 'Revised': 4276, 'To be approved': 4170, 'Draft': 3140, 'Offered': 53, 'Offerable': 10, 'Wonderful': 1}"
   ]
  },
  {
   "cell_type": "code",
   "execution_count": 41,
   "id": "4b71fbd4",
   "metadata": {},
   "outputs": [],
   "source": [
    "item_type = {'W': 105615, 'S': 69236, 'PL': 5660, 'Others': 610, 'WI': 524, 'IPL': 27, 'SLAWR': 1}"
   ]
  },
  {
   "cell_type": "code",
   "execution_count": 46,
   "id": "1ed87b68",
   "metadata": {},
   "outputs": [],
   "source": [
    "country = [ 28.,  25.,  30.,  32.,  38.,  78.,  27.,  77., 113.,  79.,  26., 39.,  40.,  84.,  80., 107.,  89.]"
   ]
  },
  {
   "cell_type": "code",
   "execution_count": 47,
   "id": "f430445e",
   "metadata": {},
   "outputs": [],
   "source": [
    "application = [10., 41., 28., 59., 15.,  4., 38., 56., 42., 26., 27., 19., 20., 66., 29., 22., 40., 25., 67., 79.,\n",
    "               3., 99.,  2.,  5., 39., 69., 70., 65., 58., 68.]"
   ]
  },
  {
   "cell_type": "code",
   "execution_count": 48,
   "id": "45c6edac",
   "metadata": {},
   "outputs": [],
   "source": [
    "product_ref = [1670798778, 1668701718,     628377,     640665,     611993, 1668701376,  164141591, 1671863738, 1332077137,     640405,\n",
    "              1693867550, 1665572374, 1282007633, 1668701698,     628117, 1690738206,     628112,     640400, 1671876026,\n",
    "              164336407, 164337175, 1668701725, 1665572032,     611728, 1721130331, 1693867563, 611733, 1690738219, \n",
    "               1722207579,  929423819, 1665584320, 1665584662, 1665584642]"
   ]
  },
  {
   "cell_type": "code",
   "execution_count": 45,
   "id": "63992ecd",
   "metadata": {},
   "outputs": [
    {
     "data": {
      "text/plain": [
       "count    1.816730e+05\n",
       "mean     3.051221e+07\n",
       "std      2.433375e+07\n",
       "min      1.245800e+04\n",
       "25%      3.019688e+07\n",
       "50%      3.020524e+07\n",
       "75%      3.028042e+07\n",
       "max      2.147484e+09\n",
       "Name: customer, dtype: float64"
      ]
     },
     "execution_count": 45,
     "metadata": {},
     "output_type": "execute_result"
    }
   ],
   "source": [
    "df['customer'].describe()"
   ]
  },
  {
   "cell_type": "code",
   "execution_count": 45,
   "id": "8cc76d86",
   "metadata": {
    "scrolled": true
   },
   "outputs": [
    {
     "data": {
      "text/plain": [
       "Index(['customer', 'country', 'status', 'item_type', 'application',\n",
       "       'thickness', 'width', 'product_ref', 'quantity_tons',\n",
       "       'item_delivery_year', 'item_delivery_month', 'item_delivery_date'],\n",
       "      dtype='object')"
      ]
     },
     "execution_count": 45,
     "metadata": {},
     "output_type": "execute_result"
    }
   ],
   "source": [
    "X_train.columns"
   ]
  },
  {
   "cell_type": "code",
   "execution_count": 48,
   "id": "bb2e270e",
   "metadata": {},
   "outputs": [],
   "source": [
    "new_value = np.array([500, 250000, 32., 19573, 69236, 56., 15, 1540, 1668701376, 2003, 5, 25]).reshape(1,-1)"
   ]
  },
  {
   "cell_type": "code",
   "execution_count": 49,
   "id": "f358fcc3",
   "metadata": {},
   "outputs": [
    {
     "data": {
      "text/plain": [
       "array([[5.00000000e+02, 2.50000000e+05, 3.20000000e+01, 1.95730000e+04,\n",
       "        6.92360000e+04, 5.60000000e+01, 1.50000000e+01, 1.54000000e+03,\n",
       "        1.66870138e+09, 2.00300000e+03, 5.00000000e+00, 2.50000000e+01]])"
      ]
     },
     "execution_count": 49,
     "metadata": {},
     "output_type": "execute_result"
    }
   ],
   "source": [
    "new_value"
   ]
  },
  {
   "cell_type": "code",
   "execution_count": 50,
   "id": "276ffd1a",
   "metadata": {
    "scrolled": false
   },
   "outputs": [],
   "source": [
    "selling_price = (model.predict(new_value))**2"
   ]
  },
  {
   "cell_type": "code",
   "execution_count": 51,
   "id": "9182ba9f",
   "metadata": {},
   "outputs": [
    {
     "data": {
      "text/plain": [
       "864"
      ]
     },
     "execution_count": 51,
     "metadata": {},
     "output_type": "execute_result"
    }
   ],
   "source": [
    "round(selling_price[0])"
   ]
  },
  {
   "cell_type": "code",
   "execution_count": 39,
   "id": "664cd755",
   "metadata": {},
   "outputs": [
    {
     "data": {
      "text/html": [
       "<div>\n",
       "<style scoped>\n",
       "    .dataframe tbody tr th:only-of-type {\n",
       "        vertical-align: middle;\n",
       "    }\n",
       "\n",
       "    .dataframe tbody tr th {\n",
       "        vertical-align: top;\n",
       "    }\n",
       "\n",
       "    .dataframe thead th {\n",
       "        text-align: right;\n",
       "    }\n",
       "</style>\n",
       "<table border=\"1\" class=\"dataframe\">\n",
       "  <thead>\n",
       "    <tr style=\"text-align: right;\">\n",
       "      <th></th>\n",
       "      <th>quantity tons</th>\n",
       "      <th>customer</th>\n",
       "      <th>country</th>\n",
       "      <th>status</th>\n",
       "      <th>item type</th>\n",
       "      <th>application</th>\n",
       "      <th>thickness</th>\n",
       "      <th>width</th>\n",
       "      <th>product_ref</th>\n",
       "      <th>item_delivery_year</th>\n",
       "      <th>item_delivery_month</th>\n",
       "      <th>item_delivery_date</th>\n",
       "    </tr>\n",
       "  </thead>\n",
       "  <tbody>\n",
       "    <tr>\n",
       "      <th>46308</th>\n",
       "      <td>2.238474</td>\n",
       "      <td>30160005.0</td>\n",
       "      <td>78.0</td>\n",
       "      <td>116012</td>\n",
       "      <td>105615</td>\n",
       "      <td>41.0</td>\n",
       "      <td>0.385262</td>\n",
       "      <td>1246.0</td>\n",
       "      <td>611993</td>\n",
       "      <td>2021</td>\n",
       "      <td>2</td>\n",
       "      <td>2</td>\n",
       "    </tr>\n",
       "    <tr>\n",
       "      <th>29893</th>\n",
       "      <td>4.624323</td>\n",
       "      <td>30394817.0</td>\n",
       "      <td>78.0</td>\n",
       "      <td>116012</td>\n",
       "      <td>105615</td>\n",
       "      <td>10.0</td>\n",
       "      <td>0.405465</td>\n",
       "      <td>1250.0</td>\n",
       "      <td>611993</td>\n",
       "      <td>2021</td>\n",
       "      <td>3</td>\n",
       "      <td>1</td>\n",
       "    </tr>\n",
       "    <tr>\n",
       "      <th>159082</th>\n",
       "      <td>4.663881</td>\n",
       "      <td>30161289.0</td>\n",
       "      <td>26.0</td>\n",
       "      <td>116012</td>\n",
       "      <td>69236</td>\n",
       "      <td>10.0</td>\n",
       "      <td>0.559616</td>\n",
       "      <td>1300.0</td>\n",
       "      <td>1668701718</td>\n",
       "      <td>2020</td>\n",
       "      <td>8</td>\n",
       "      <td>12</td>\n",
       "    </tr>\n",
       "    <tr>\n",
       "      <th>108098</th>\n",
       "      <td>3.544710</td>\n",
       "      <td>30203192.0</td>\n",
       "      <td>27.0</td>\n",
       "      <td>34438</td>\n",
       "      <td>69236</td>\n",
       "      <td>15.0</td>\n",
       "      <td>0.530628</td>\n",
       "      <td>1250.0</td>\n",
       "      <td>628377</td>\n",
       "      <td>2020</td>\n",
       "      <td>11</td>\n",
       "      <td>6</td>\n",
       "    </tr>\n",
       "    <tr>\n",
       "      <th>2960</th>\n",
       "      <td>2.436498</td>\n",
       "      <td>30153510.0</td>\n",
       "      <td>30.0</td>\n",
       "      <td>116012</td>\n",
       "      <td>105615</td>\n",
       "      <td>41.0</td>\n",
       "      <td>0.381855</td>\n",
       "      <td>1260.0</td>\n",
       "      <td>611993</td>\n",
       "      <td>2021</td>\n",
       "      <td>3</td>\n",
       "      <td>29</td>\n",
       "    </tr>\n",
       "    <tr>\n",
       "      <th>...</th>\n",
       "      <td>...</td>\n",
       "      <td>...</td>\n",
       "      <td>...</td>\n",
       "      <td>...</td>\n",
       "      <td>...</td>\n",
       "      <td>...</td>\n",
       "      <td>...</td>\n",
       "      <td>...</td>\n",
       "      <td>...</td>\n",
       "      <td>...</td>\n",
       "      <td>...</td>\n",
       "      <td>...</td>\n",
       "    </tr>\n",
       "    <tr>\n",
       "      <th>135201</th>\n",
       "      <td>3.653531</td>\n",
       "      <td>30287099.0</td>\n",
       "      <td>32.0</td>\n",
       "      <td>34438</td>\n",
       "      <td>105615</td>\n",
       "      <td>41.0</td>\n",
       "      <td>0.438255</td>\n",
       "      <td>1220.0</td>\n",
       "      <td>611993</td>\n",
       "      <td>2020</td>\n",
       "      <td>9</td>\n",
       "      <td>29</td>\n",
       "    </tr>\n",
       "    <tr>\n",
       "      <th>138613</th>\n",
       "      <td>1.678782</td>\n",
       "      <td>30205825.0</td>\n",
       "      <td>25.0</td>\n",
       "      <td>116012</td>\n",
       "      <td>105615</td>\n",
       "      <td>10.0</td>\n",
       "      <td>0.587787</td>\n",
       "      <td>1250.0</td>\n",
       "      <td>1332077137</td>\n",
       "      <td>2020</td>\n",
       "      <td>9</td>\n",
       "      <td>24</td>\n",
       "    </tr>\n",
       "    <tr>\n",
       "      <th>110531</th>\n",
       "      <td>5.350663</td>\n",
       "      <td>30201306.0</td>\n",
       "      <td>26.0</td>\n",
       "      <td>19573</td>\n",
       "      <td>69236</td>\n",
       "      <td>28.0</td>\n",
       "      <td>0.336472</td>\n",
       "      <td>1210.0</td>\n",
       "      <td>628377</td>\n",
       "      <td>2020</td>\n",
       "      <td>11</td>\n",
       "      <td>3</td>\n",
       "    </tr>\n",
       "    <tr>\n",
       "      <th>173592</th>\n",
       "      <td>4.373214</td>\n",
       "      <td>30155824.0</td>\n",
       "      <td>25.0</td>\n",
       "      <td>116012</td>\n",
       "      <td>105615</td>\n",
       "      <td>10.0</td>\n",
       "      <td>0.672944</td>\n",
       "      <td>1250.0</td>\n",
       "      <td>611993</td>\n",
       "      <td>2020</td>\n",
       "      <td>7</td>\n",
       "      <td>13</td>\n",
       "    </tr>\n",
       "    <tr>\n",
       "      <th>26545</th>\n",
       "      <td>3.950906</td>\n",
       "      <td>30203192.0</td>\n",
       "      <td>27.0</td>\n",
       "      <td>34438</td>\n",
       "      <td>69236</td>\n",
       "      <td>15.0</td>\n",
       "      <td>0.587787</td>\n",
       "      <td>1250.0</td>\n",
       "      <td>1332077137</td>\n",
       "      <td>2021</td>\n",
       "      <td>3</td>\n",
       "      <td>3</td>\n",
       "    </tr>\n",
       "  </tbody>\n",
       "</table>\n",
       "<p>45419 rows × 12 columns</p>\n",
       "</div>"
      ],
      "text/plain": [
       "        quantity tons    customer  country  status  item type  application  \\\n",
       "46308        2.238474  30160005.0     78.0  116012     105615         41.0   \n",
       "29893        4.624323  30394817.0     78.0  116012     105615         10.0   \n",
       "159082       4.663881  30161289.0     26.0  116012      69236         10.0   \n",
       "108098       3.544710  30203192.0     27.0   34438      69236         15.0   \n",
       "2960         2.436498  30153510.0     30.0  116012     105615         41.0   \n",
       "...               ...         ...      ...     ...        ...          ...   \n",
       "135201       3.653531  30287099.0     32.0   34438     105615         41.0   \n",
       "138613       1.678782  30205825.0     25.0  116012     105615         10.0   \n",
       "110531       5.350663  30201306.0     26.0   19573      69236         28.0   \n",
       "173592       4.373214  30155824.0     25.0  116012     105615         10.0   \n",
       "26545        3.950906  30203192.0     27.0   34438      69236         15.0   \n",
       "\n",
       "        thickness   width  product_ref  item_delivery_year  \\\n",
       "46308    0.385262  1246.0       611993                2021   \n",
       "29893    0.405465  1250.0       611993                2021   \n",
       "159082   0.559616  1300.0   1668701718                2020   \n",
       "108098   0.530628  1250.0       628377                2020   \n",
       "2960     0.381855  1260.0       611993                2021   \n",
       "...           ...     ...          ...                 ...   \n",
       "135201   0.438255  1220.0       611993                2020   \n",
       "138613   0.587787  1250.0   1332077137                2020   \n",
       "110531   0.336472  1210.0       628377                2020   \n",
       "173592   0.672944  1250.0       611993                2020   \n",
       "26545    0.587787  1250.0   1332077137                2021   \n",
       "\n",
       "        item_delivery_month  item_delivery_date  \n",
       "46308                     2                   2  \n",
       "29893                     3                   1  \n",
       "159082                    8                  12  \n",
       "108098                   11                   6  \n",
       "2960                      3                  29  \n",
       "...                     ...                 ...  \n",
       "135201                    9                  29  \n",
       "138613                    9                  24  \n",
       "110531                   11                   3  \n",
       "173592                    7                  13  \n",
       "26545                     3                   3  \n",
       "\n",
       "[45419 rows x 12 columns]"
      ]
     },
     "execution_count": 39,
     "metadata": {},
     "output_type": "execute_result"
    }
   ],
   "source": [
    "X_test"
   ]
  },
  {
   "cell_type": "code",
   "execution_count": 41,
   "id": "af61989d",
   "metadata": {},
   "outputs": [
    {
     "data": {
      "text/plain": [
       "46308     34.785054\n",
       "29893     34.655447\n",
       "159082    27.073973\n",
       "108098    27.313001\n",
       "2960      35.905431\n",
       "            ...    \n",
       "135201    30.066593\n",
       "138613    26.191602\n",
       "110531    25.787594\n",
       "173592    29.103264\n",
       "26545     31.638584\n",
       "Name: selling_price, Length: 45419, dtype: float64"
      ]
     },
     "execution_count": 41,
     "metadata": {},
     "output_type": "execute_result"
    }
   ],
   "source": [
    "y_test"
   ]
  },
  {
   "cell_type": "code",
   "execution_count": 43,
   "id": "6a3b83e9",
   "metadata": {},
   "outputs": [],
   "source": [
    "x_test_26545 = np.array(X_test.loc[26545]).reshape(1,-1)"
   ]
  },
  {
   "cell_type": "code",
   "execution_count": 54,
   "id": "1580b24b",
   "metadata": {},
   "outputs": [],
   "source": [
    "selling_price = (model.predict(x_test_26545))**2"
   ]
  },
  {
   "cell_type": "code",
   "execution_count": 57,
   "id": "efef2d73",
   "metadata": {},
   "outputs": [
    {
     "data": {
      "text/plain": [
       "1001"
      ]
     },
     "execution_count": 57,
     "metadata": {},
     "output_type": "execute_result"
    }
   ],
   "source": [
    "round(selling_price[0])"
   ]
  },
  {
   "cell_type": "code",
   "execution_count": 58,
   "id": "e028a232",
   "metadata": {},
   "outputs": [
    {
     "data": {
      "text/plain": [
       "1001"
      ]
     },
     "execution_count": 58,
     "metadata": {},
     "output_type": "execute_result"
    }
   ],
   "source": [
    "round(y_test.loc[26545]**2)"
   ]
  },
  {
   "cell_type": "code",
   "execution_count": null,
   "id": "993cebf9",
   "metadata": {},
   "outputs": [],
   "source": []
  },
  {
   "cell_type": "code",
   "execution_count": null,
   "id": "d8940b9b",
   "metadata": {},
   "outputs": [],
   "source": []
  },
  {
   "cell_type": "code",
   "execution_count": null,
   "id": "3b8abb72",
   "metadata": {},
   "outputs": [],
   "source": []
  },
  {
   "cell_type": "code",
   "execution_count": 41,
   "id": "db03b1b7",
   "metadata": {},
   "outputs": [],
   "source": [
    "import pickle"
   ]
  },
  {
   "cell_type": "code",
   "execution_count": 42,
   "id": "077d0f0f",
   "metadata": {},
   "outputs": [],
   "source": [
    "pickle.dump(model, open('copper_reg_model.pkl','wb'))"
   ]
  },
  {
   "cell_type": "code",
   "execution_count": null,
   "id": "5ceaded6",
   "metadata": {},
   "outputs": [],
   "source": [
    "copper_model = pickle.load(open('copper_reg_model.pkl', 'rb'))"
   ]
  },
  {
   "cell_type": "code",
   "execution_count": null,
   "id": "722be15e",
   "metadata": {},
   "outputs": [],
   "source": [
    "copper_model.predict(X_test[2].reshape(1,-1))"
   ]
  },
  {
   "cell_type": "code",
   "execution_count": null,
   "id": "9968f721",
   "metadata": {},
   "outputs": [],
   "source": [
    "pickle.dump(scaler,open('transformation_copper_df.pkl','wb'))"
   ]
  },
  {
   "cell_type": "code",
   "execution_count": null,
   "id": "22195ab3",
   "metadata": {},
   "outputs": [],
   "source": []
  },
  {
   "cell_type": "code",
   "execution_count": 43,
   "id": "975f53d2",
   "metadata": {},
   "outputs": [],
   "source": [
    "import bz2file as bz2"
   ]
  },
  {
   "cell_type": "code",
   "execution_count": 44,
   "id": "bd9af143",
   "metadata": {},
   "outputs": [],
   "source": [
    "def compressed_pickle(filename, data):\n",
    "    with bz2.BZ2File(filename + '.pbz2', 'w') as f:\n",
    "        pickle.dump(data, f)"
   ]
  },
  {
   "cell_type": "code",
   "execution_count": 45,
   "id": "8d56359e",
   "metadata": {},
   "outputs": [],
   "source": [
    "compressed_pickle('copper_reg_model', model)"
   ]
  },
  {
   "cell_type": "code",
   "execution_count": 1,
   "id": "7a37b262",
   "metadata": {},
   "outputs": [],
   "source": [
    "def decompress_pickle(file):\n",
    "    data = bz2.BZ2File(file, 'rb')\n",
    "    data = pickle.load(data)\n",
    "    return data"
   ]
  },
  {
   "cell_type": "raw",
   "id": "fc42da89",
   "metadata": {},
   "source": [
    "reg_model = decompress_pickle('copper_reg_model.pbz2')"
   ]
  },
  {
   "cell_type": "code",
   "execution_count": null,
   "id": "620dd241",
   "metadata": {},
   "outputs": [],
   "source": []
  },
  {
   "cell_type": "code",
   "execution_count": 41,
   "id": "158370b3",
   "metadata": {},
   "outputs": [
    {
     "data": {
      "text/plain": [
       "['copper_reg_model.joblib']"
      ]
     },
     "execution_count": 41,
     "metadata": {},
     "output_type": "execute_result"
    }
   ],
   "source": [
    "import joblib\n",
    "joblib.dump(model, 'copper_reg_model.joblib',compress=9)"
   ]
  },
  {
   "cell_type": "code",
   "execution_count": 42,
   "id": "ed05ff6e",
   "metadata": {},
   "outputs": [],
   "source": [
    "uncompressed_model = joblib.load('copper_reg_model.joblib')"
   ]
  },
  {
   "cell_type": "code",
   "execution_count": 44,
   "id": "6f70ff5b",
   "metadata": {},
   "outputs": [],
   "source": [
    "sp = (uncompressed_model.predict(x_test_26545))**2"
   ]
  },
  {
   "cell_type": "code",
   "execution_count": 45,
   "id": "f0faaced",
   "metadata": {},
   "outputs": [
    {
     "data": {
      "text/plain": [
       "1001"
      ]
     },
     "execution_count": 45,
     "metadata": {},
     "output_type": "execute_result"
    }
   ],
   "source": [
    "round(sp[0])"
   ]
  },
  {
   "cell_type": "code",
   "execution_count": null,
   "id": "5d665732",
   "metadata": {},
   "outputs": [],
   "source": []
  },
  {
   "cell_type": "code",
   "execution_count": 49,
   "id": "4e93cbf0",
   "metadata": {},
   "outputs": [],
   "source": [
    "import gzip, pickle\n",
    "with gzip.open('finalized_model.pkl.gz', 'wb') as ofp:\n",
    "    pickle.dump(model, ofp)"
   ]
  },
  {
   "cell_type": "code",
   "execution_count": 50,
   "id": "b65d2150",
   "metadata": {},
   "outputs": [],
   "source": [
    "with gzip.open('finalized_model.pkl.gz', 'rb') as ifp:\n",
    "    uncompressed_model1 = pickle.load(ifp)"
   ]
  },
  {
   "cell_type": "code",
   "execution_count": 69,
   "id": "b7805dd6",
   "metadata": {},
   "outputs": [
    {
     "data": {
      "text/plain": [
       "array([21.68635201])"
      ]
     },
     "execution_count": 69,
     "metadata": {},
     "output_type": "execute_result"
    }
   ],
   "source": [
    "uncompressed_model1.predict(X_test[2].reshape(1,-1))"
   ]
  },
  {
   "cell_type": "code",
   "execution_count": null,
   "id": "941ec8f6",
   "metadata": {},
   "outputs": [],
   "source": []
  },
  {
   "cell_type": "code",
   "execution_count": null,
   "id": "28d80dbd",
   "metadata": {},
   "outputs": [],
   "source": []
  },
  {
   "cell_type": "code",
   "execution_count": 67,
   "id": "c17989b3",
   "metadata": {
    "collapsed": true
   },
   "outputs": [
    {
     "ename": "NameError",
     "evalue": "name 'quantity_tons' is not defined",
     "output_type": "error",
     "traceback": [
      "\u001b[1;31m---------------------------------------------------------------------------\u001b[0m",
      "\u001b[1;31mNameError\u001b[0m                                 Traceback (most recent call last)",
      "Cell \u001b[1;32mIn[67], line 1\u001b[0m\n\u001b[1;32m----> 1\u001b[0m fns_input \u001b[38;5;241m=\u001b[39m [np\u001b[38;5;241m.\u001b[39mlog(\u001b[43mquantity_tons\u001b[49m), customer, selected_country, status[selected_status],\n\u001b[0;32m      2\u001b[0m                     item_type[selected_item_type], selected_application, np\u001b[38;5;241m.\u001b[39mlog(thickness), width, selected_product_ref,\n\u001b[0;32m      3\u001b[0m                     item_year, item_month, item_date]\n",
      "\u001b[1;31mNameError\u001b[0m: name 'quantity_tons' is not defined"
     ]
    }
   ],
   "source": [
    "fns_input = [np.log(quantity_tons), customer, selected_country, status[selected_status],\n",
    "                    item_type[selected_item_type], selected_application, np.log(thickness), width, selected_product_ref,\n",
    "                    item_year, item_month, item_date]"
   ]
  },
  {
   "cell_type": "code",
   "execution_count": 9,
   "id": "84f2a0a1",
   "metadata": {},
   "outputs": [
    {
     "name": "stdout",
     "output_type": "stream",
     "text": [
      "numpy - 1.26.1\n"
     ]
    }
   ],
   "source": [
    "import pkg_resources\n",
    "\n",
    "package_name = 'numpy'  # Replace with the name of the package you want to check\n",
    "\n",
    "# Get the version of the specific package\n",
    "try:\n",
    "    version = pkg_resources.get_distribution(package_name).version\n",
    "    print(f\"{package_name} - {version}\")\n",
    "except pkg_resources.DistributionNotFound:\n",
    "    print(f\"{package_name} is not installed.\")"
   ]
  },
  {
   "cell_type": "code",
   "execution_count": 5,
   "id": "2b31c7b2",
   "metadata": {
    "collapsed": true
   },
   "outputs": [
    {
     "name": "stdout",
     "output_type": "stream",
     "text": [
      "multidict - 6.0.4\n",
      "async-timeout - 4.0.2\n",
      "aiohttp - 3.8.5\n",
      "crc32c - 2.3.post0\n",
      "yarl - 1.9.2\n",
      "frozenlist - 1.4.0\n",
      "aiosignal - 1.3.1\n",
      "codeium-jupyter - 1.1.21\n",
      "regex - 2023.5.5\n",
      "xyzservices - 2023.5.0\n",
      "tifffile - 2023.4.12\n",
      "pytz - 2023.3\n",
      "tzdata - 2023.3\n",
      "certifi - 2022.12.7\n",
      "pywin32 - 306\n",
      "setuptools - 65.5.0\n",
      "cryptography - 40.0.2\n",
      "pyzmq - 25.0.2\n",
      "pip - 23.3.1\n",
      "attrs - 23.1.0\n",
      "packaging - 23.1\n",
      "argon2-cffi - 21.3.0\n",
      "argon2-cffi-bindings - 21.2.0\n",
      "isoduration - 20.11.0\n",
      "rich - 13.3.5\n",
      "pyarrow - 12.0.0\n",
      "pillow - 9.5.0\n",
      "ipython - 8.12.0\n",
      "tenacity - 8.2.2\n",
      "jupyter-client - 8.2.0\n",
      "thinc - 8.1.10\n",
      "click - 8.1.3\n",
      "mysql-connector-python - 8.0.32\n",
      "ipywidgets - 8.0.6\n",
      "nbconvert - 7.3.1\n",
      "lab - 7.3\n",
      "ipykernel - 6.22.0\n",
      "jupyter-console - 6.6.3\n",
      "importlib-metadata - 6.6.0\n",
      "notebook - 6.5.4\n",
      "tornado - 6.3.1\n",
      "smart-open - 6.3.0\n",
      "bleach - 6.0.0\n",
      "pyyaml - 6.0\n",
      "plotly - 5.14.1\n",
      "psutil - 5.9.5\n",
      "traitlets - 5.9.0\n",
      "nbformat - 5.8.0\n",
      "qtconsole - 5.4.2\n",
      "cachetools - 5.3.0\n",
      "jupyter-core - 5.3.0\n",
      "decorator - 5.1.1\n",
      "smmap - 5.0.0\n",
      "tqdm - 4.65.0\n",
      "fonttools - 4.39.3\n",
      "jsonschema - 4.17.3\n",
      "beautifulsoup4 - 4.12.2\n",
      "lxml - 4.9.2\n",
      "rsa - 4.9\n",
      "opencv-python - 4.7.0.72\n",
      "opencv-python-headless - 4.7.0.72\n",
      "typing-extensions - 4.5.0\n",
      "pymongo - 4.3.3\n",
      "gensim - 4.3.1\n",
      "imagehash - 4.3.1\n",
      "tzlocal - 4.3\n",
      "altair - 4.2.2\n",
      "uritemplate - 4.1.1\n",
      "lightgbm - 4.1.0\n",
      "gitdb - 4.0.10\n",
      "widgetsnbextension - 4.0.7\n",
      "protobuf - 3.20.3\n",
      "simplejson - 3.19.1\n",
      "zipp - 3.15.0\n",
      "filelock - 3.12.0\n",
      "nltk - 3.8.1\n",
      "matplotlib - 3.8.0\n",
      "txt2tags - 3.8\n",
      "anyio - 3.6.2\n",
      "spacy - 3.5.3\n",
      "en-core-web-sm - 3.5.0\n",
      "pyproj - 3.5.0\n",
      "idna - 3.4\n",
      "langcodes - 3.3.0\n",
      "oauthlib - 3.2.2\n",
      "platformdirs - 3.2.0\n",
      "gitpython - 3.1.31\n",
      "jinja2 - 3.1.2\n",
      "openpyxl - 3.1.2\n",
      "xlsxwriter - 3.1.2\n",
      "flask-sqlalchemy - 3.1.1\n",
      "charset-normalizer - 3.1.0\n",
      "networkx - 3.1\n",
      "threadpoolctl - 3.1.0\n",
      "prompt-toolkit - 3.0.38\n",
      "spacy-legacy - 3.0.12\n",
      "pyparsing - 3.0.9\n",
      "preshed - 3.0.8\n",
      "jupyterlab-widgets - 3.0.7\n",
      "watchdog - 3.0.0\n",
      "google-api-python-client - 2.86.0\n",
      "imageio - 2.31.1\n",
      "requests - 2.28.2\n",
      "pycparser - 2.21\n",
      "google-auth - 2.18.0\n",
      "fastjsonschema - 2.16.3\n",
      "pygments - 2.15.1\n",
      "typeguard - 2.13.3\n",
      "google-api-core - 2.11.0\n",
      "python-dateutil - 2.8.2\n",
      "jupyter-server - 2.5.0\n",
      "srsly - 2.4.6\n",
      "bokeh - 2.4.3\n",
      "soupsieve - 2.4.1\n",
      "werkzeug - 2.3.7\n",
      "flask - 2.3.3\n",
      "qtpy - 2.3.1\n",
      "dnspython - 2.3.0\n",
      "jsonpointer - 2.3\n",
      "asttokens - 2.2.1\n",
      "markdown-it-py - 2.2.0\n",
      "itsdangerous - 2.1.2\n",
      "markupsafe - 2.1.2\n",
      "mysqlclient - 2.1.1\n",
      "pandas - 2.1.1\n",
      "sqlalchemy - 2.0.21\n",
      "pywinpty - 2.0.10\n",
      "catalogue - 2.0.8\n",
      "cymem - 2.0.7\n",
      "python-json-logger - 2.0.7\n",
      "mistune - 2.0.5\n",
      "greenlet - 2.0.2\n",
      "shapely - 2.0.1\n",
      "torch - 2.0.1\n",
      "xlrd - 2.0.1\n",
      "googleapis-common-protos - 1.59.0\n",
      "urllib3 - 1.26.15\n",
      "numpy - 1.26.1\n",
      "streamlit - 1.22.0\n",
      "six - 1.16.0\n",
      "cffi - 1.15.1\n",
      "webcolors - 1.13\n",
      "sympy - 1.12\n",
      "ninja - 1.11.1\n",
      "pydantic - 1.10.7\n",
      "scipy - 1.10.1\n",
      "fiona - 1.9.4.post1\n",
      "wordcloud - 1.9.2\n",
      "multimethod - 1.9.1\n",
      "dacite - 1.8.1\n",
      "send2trash - 1.8.0\n",
      "xgboost - 1.7.5\n",
      "pysocks - 1.7.1\n",
      "easyocr - 1.7.0\n",
      "debugpy - 1.6.7\n",
      "blinker - 1.6.2\n",
      "nest-asyncio - 1.5.6\n",
      "fqdn - 1.5.1\n",
      "websocket-client - 1.5.1\n",
      "pandocfilters - 1.5.0\n",
      "kiwisolver - 1.4.4\n",
      "pywavelets - 1.4.1\n",
      "joblib - 1.3.2\n",
      "requests-oauthlib - 1.3.1\n",
      "pyclipper - 1.3.0.post4\n",
      "mpmath - 1.3.0\n",
      "sniffio - 1.3.0\n",
      "arrow - 1.2.3\n",
      "tinycss2 - 1.2.1\n",
      "executing - 1.2.0\n",
      "uri-template - 1.2.0\n",
      "apyori - 1.1.2\n",
      "click-plugins - 1.1.1\n",
      "wasabi - 1.1.1\n",
      "et-xmlfile - 1.1.0\n",
      "pyforest - 1.1.0\n",
      "murmurhash - 1.0.9\n",
      "contourpy - 1.0.7\n",
      "spacy-loggers - 1.0.4\n",
      "pymysql - 1.0.3\n",
      "pathlib - 1.0.1\n",
      "pympler - 1.0.1\n",
      "google-auth-oauthlib - 1.0.0\n",
      "jupyter - 1.0.0\n",
      "bz2file - 0.98\n",
      "wheel - 0.40.0\n",
      "httplib2 - 0.22.0\n",
      "mlxtend - 0.22.0\n",
      "scikit-image - 0.21.0\n",
      "validators - 0.20.0\n",
      "pyrsistent - 0.19.3\n",
      "jedi - 0.18.2\n",
      "terminado - 0.17.1\n",
      "prometheus-client - 0.16.0\n",
      "torchvision - 0.15.2\n",
      "folium - 0.14.0\n",
      "statsmodels - 0.13.5\n",
      "geopandas - 0.13.2\n",
      "seaborn - 0.13.0\n",
      "phik - 0.12.3\n",
      "streamlit-folium - 0.12.0\n",
      "toolz - 0.12.0\n",
      "cycler - 0.11.0\n",
      "toml - 0.10.2\n",
      "imbalanced-learn - 0.10.1\n",
      "pathy - 0.10.1\n",
      "parso - 0.8.3\n",
      "pydeck - 0.8.1b0\n",
      "blis - 0.7.9\n",
      "pickleshare - 0.7.5\n",
      "visions - 0.7.5\n",
      "nbclient - 0.7.3\n",
      "cligj - 0.7.2\n",
      "defusedxml - 0.7.1\n",
      "typer - 0.7.0\n",
      "jupyter-events - 0.6.3\n",
      "jupyter-nbextensions-configurator - 0.6.3\n",
      "snscrape - 0.6.2.20230320\n",
      "docopt - 0.6.2\n",
      "stack-data - 0.6.2\n",
      "branca - 0.6.0\n",
      "num2words - 0.5.12\n",
      "nbclassic - 0.5.5\n",
      "patsy - 0.5.3\n",
      "missingno - 0.5.2\n",
      "webencodings - 0.5.1\n",
      "pyasn1 - 0.5.0\n",
      "colorama - 0.4.6\n",
      "jupyter-server-terminals - 0.4.4\n",
      "jupyter-contrib-core - 0.4.2\n",
      "python-bidi - 0.4.2\n",
      "plotly-express - 0.4.1\n",
      "entrypoints - 0.4\n",
      "pytesseract - 0.3.10\n",
      "streamlit-option-menu - 0.3.6\n",
      "pyasn1-modules - 0.3.0\n",
      "lazypredict - 0.2.12\n",
      "wcwidth - 0.2.6\n",
      "notebook-shim - 0.2.3\n",
      "jupyterlab-pygments - 0.2.2\n",
      "pure-eval - 0.2.2\n",
      "backcall - 0.2.0\n",
      "ipython-genutils - 0.2.0\n",
      "lazy-loader - 0.2\n",
      "tangled-up-in-unicode - 0.2.0\n",
      "htmlmin - 0.1.12\n",
      "matplotlib-inline - 0.1.6\n",
      "rfc3339-validator - 0.1.4\n",
      "comm - 0.1.3\n",
      "mdurl - 0.1.2\n",
      "rfc3986-validator - 0.1.1\n",
      "pytz-deprecation-shim - 0.1.0.post0\n",
      "google-auth-httplib2 - 0.1.0\n",
      "confection - 0.0.4\n",
      "mysql - 0.0.3\n",
      "sklearn - 0.0.post10\n",
      "imblearn - 0.0\n"
     ]
    }
   ],
   "source": [
    "import pkg_resources\n",
    "\n",
    "# Get a list of installed packages and their versions\n",
    "installed_packages = {pkg.key: pkg.version for pkg in pkg_resources.working_set}\n",
    "\n",
    "# Print the list of packages and their versions\n",
    "for package, version in installed_packages.items():\n",
    "    print(f\"{package} - {version}\")\n"
   ]
  },
  {
   "cell_type": "code",
   "execution_count": null,
   "id": "4ce75801",
   "metadata": {},
   "outputs": [],
   "source": [
    "python -m pip install --upgrade pip"
   ]
  },
  {
   "cell_type": "code",
   "execution_count": 5,
   "id": "22fd32f6",
   "metadata": {
    "scrolled": true
   },
   "outputs": [
    {
     "name": "stdout",
     "output_type": "stream",
     "text": [
      "pip 23.3 from C:\\Python\\Python310\\lib\\site-packages\\pip (python 3.10)\n",
      "\n"
     ]
    }
   ],
   "source": [
    "!pip --version"
   ]
  },
  {
   "cell_type": "code",
   "execution_count": 1,
   "id": "7633e0e7",
   "metadata": {},
   "outputs": [],
   "source": [
    "!pip freeze > installed_packages.txt"
   ]
  },
  {
   "cell_type": "code",
   "execution_count": 2,
   "id": "fc761b1e",
   "metadata": {
    "scrolled": false
   },
   "outputs": [
    {
     "name": "stderr",
     "output_type": "stream",
     "text": [
      "ERROR: You must give at least one requirement to uninstall (see \"pip help uninstall\")\n"
     ]
    }
   ],
   "source": [
    "!pip uninstall -y -r installed_packages.txt"
   ]
  },
  {
   "cell_type": "code",
   "execution_count": 4,
   "id": "8a5c987d",
   "metadata": {},
   "outputs": [],
   "source": [
    "import pkg_resources\n",
    "import subprocess\n",
    "\n",
    "# Get a list of installed packages\n",
    "installed_packages = {pkg.key for pkg in pkg_resources.working_set}\n",
    "\n",
    "# Exclude 'pip' from the list of installed packages\n",
    "if 'pip' in installed_packages:\n",
    "    installed_packages.remove('pip')\n",
    "\n",
    "# Uninstall each package one by one\n",
    "for package in installed_packages:\n",
    "    subprocess.check_call(['pip', 'uninstall', '-y', package])\n"
   ]
  },
  {
   "cell_type": "code",
   "execution_count": null,
   "id": "fe9fe33f",
   "metadata": {},
   "outputs": [],
   "source": []
  }
 ],
 "metadata": {
  "kernelspec": {
   "display_name": "Python 3 (ipykernel)",
   "language": "python",
   "name": "python3"
  },
  "language_info": {
   "codemirror_mode": {
    "name": "ipython",
    "version": 3
   },
   "file_extension": ".py",
   "mimetype": "text/x-python",
   "name": "python",
   "nbconvert_exporter": "python",
   "pygments_lexer": "ipython3",
   "version": "3.11.2"
  }
 },
 "nbformat": 4,
 "nbformat_minor": 5
}
